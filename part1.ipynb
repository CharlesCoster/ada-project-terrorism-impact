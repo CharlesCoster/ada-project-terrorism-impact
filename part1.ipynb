{
 "cells": [
  {
   "cell_type": "markdown",
   "metadata": {
    "colab_type": "text",
    "id": "view-in-github"
   },
   "source": [
    "<a href=\"https://colab.research.google.com/github/CharlesCoster/ada-project-terrorism-impact/blob/master/part1.ipynb\" target=\"_parent\"><img src=\"https://colab.research.google.com/assets/colab-badge.svg\" alt=\"Open In Colab\"/></a>"
   ]
  },
  {
   "cell_type": "code",
   "execution_count": 45,
   "metadata": {
    "colab": {},
    "colab_type": "code",
    "id": "aA55wKbOZlr-"
   },
   "outputs": [],
   "source": [
    "import pandas as pd\n",
    "import numpy as np\n",
    "import seaborn as sns\n",
    "import matplotlib.pyplot as plt\n",
    "import re"
   ]
  },
  {
   "cell_type": "code",
   "execution_count": 46,
   "metadata": {
    "colab": {
     "base_uri": "https://localhost:8080/",
     "height": 351
    },
    "colab_type": "code",
    "id": "jorWRJiMZlsT",
    "outputId": "958c137a-65c8-471c-f90f-f984ab06e4d0"
   },
   "outputs": [
    {
     "data": {
      "text/html": [
       "<div>\n",
       "<style scoped>\n",
       "    .dataframe tbody tr th:only-of-type {\n",
       "        vertical-align: middle;\n",
       "    }\n",
       "\n",
       "    .dataframe tbody tr th {\n",
       "        vertical-align: top;\n",
       "    }\n",
       "\n",
       "    .dataframe thead th {\n",
       "        text-align: right;\n",
       "    }\n",
       "</style>\n",
       "<table border=\"1\" class=\"dataframe\">\n",
       "  <thead>\n",
       "    <tr style=\"text-align: right;\">\n",
       "      <th></th>\n",
       "      <th>eventid</th>\n",
       "      <th>iyear</th>\n",
       "      <th>imonth</th>\n",
       "      <th>iday</th>\n",
       "      <th>country_txt</th>\n",
       "      <th>city</th>\n",
       "      <th>region_txt</th>\n",
       "      <th>attacktype1_txt</th>\n",
       "      <th>attacktype2_txt</th>\n",
       "      <th>attacktype3_txt</th>\n",
       "      <th>targtype1_txt</th>\n",
       "      <th>targtype2_txt</th>\n",
       "      <th>weaptype1_txt</th>\n",
       "      <th>weaptype2_txt</th>\n",
       "      <th>weaptype3_txt</th>\n",
       "      <th>weaptype4_txt</th>\n",
       "      <th>gname</th>\n",
       "      <th>nkill</th>\n",
       "      <th>nkillter</th>\n",
       "    </tr>\n",
       "  </thead>\n",
       "  <tbody>\n",
       "    <tr>\n",
       "      <th>0</th>\n",
       "      <td>197000000001</td>\n",
       "      <td>1970</td>\n",
       "      <td>7</td>\n",
       "      <td>2</td>\n",
       "      <td>Dominican Republic</td>\n",
       "      <td>Santo Domingo</td>\n",
       "      <td>Central America &amp; Caribbean</td>\n",
       "      <td>Assassination</td>\n",
       "      <td>NaN</td>\n",
       "      <td>NaN</td>\n",
       "      <td>Private Citizens &amp; Property</td>\n",
       "      <td>NaN</td>\n",
       "      <td>Unknown</td>\n",
       "      <td>NaN</td>\n",
       "      <td>NaN</td>\n",
       "      <td>NaN</td>\n",
       "      <td>MANO-D</td>\n",
       "      <td>1.0</td>\n",
       "      <td>NaN</td>\n",
       "    </tr>\n",
       "    <tr>\n",
       "      <th>1</th>\n",
       "      <td>197000000002</td>\n",
       "      <td>1970</td>\n",
       "      <td>0</td>\n",
       "      <td>0</td>\n",
       "      <td>Mexico</td>\n",
       "      <td>Mexico city</td>\n",
       "      <td>North America</td>\n",
       "      <td>Hostage Taking (Kidnapping)</td>\n",
       "      <td>NaN</td>\n",
       "      <td>NaN</td>\n",
       "      <td>Government (Diplomatic)</td>\n",
       "      <td>NaN</td>\n",
       "      <td>Unknown</td>\n",
       "      <td>NaN</td>\n",
       "      <td>NaN</td>\n",
       "      <td>NaN</td>\n",
       "      <td>23rd of September Communist League</td>\n",
       "      <td>0.0</td>\n",
       "      <td>NaN</td>\n",
       "    </tr>\n",
       "    <tr>\n",
       "      <th>2</th>\n",
       "      <td>197001000001</td>\n",
       "      <td>1970</td>\n",
       "      <td>1</td>\n",
       "      <td>0</td>\n",
       "      <td>Philippines</td>\n",
       "      <td>Unknown</td>\n",
       "      <td>Southeast Asia</td>\n",
       "      <td>Assassination</td>\n",
       "      <td>NaN</td>\n",
       "      <td>NaN</td>\n",
       "      <td>Journalists &amp; Media</td>\n",
       "      <td>NaN</td>\n",
       "      <td>Unknown</td>\n",
       "      <td>NaN</td>\n",
       "      <td>NaN</td>\n",
       "      <td>NaN</td>\n",
       "      <td>Unknown</td>\n",
       "      <td>1.0</td>\n",
       "      <td>NaN</td>\n",
       "    </tr>\n",
       "    <tr>\n",
       "      <th>3</th>\n",
       "      <td>197001000002</td>\n",
       "      <td>1970</td>\n",
       "      <td>1</td>\n",
       "      <td>0</td>\n",
       "      <td>Greece</td>\n",
       "      <td>Athens</td>\n",
       "      <td>Western Europe</td>\n",
       "      <td>Bombing/Explosion</td>\n",
       "      <td>NaN</td>\n",
       "      <td>NaN</td>\n",
       "      <td>Government (Diplomatic)</td>\n",
       "      <td>NaN</td>\n",
       "      <td>Explosives</td>\n",
       "      <td>NaN</td>\n",
       "      <td>NaN</td>\n",
       "      <td>NaN</td>\n",
       "      <td>Unknown</td>\n",
       "      <td>NaN</td>\n",
       "      <td>NaN</td>\n",
       "    </tr>\n",
       "    <tr>\n",
       "      <th>4</th>\n",
       "      <td>197001000003</td>\n",
       "      <td>1970</td>\n",
       "      <td>1</td>\n",
       "      <td>0</td>\n",
       "      <td>Japan</td>\n",
       "      <td>Fukouka</td>\n",
       "      <td>East Asia</td>\n",
       "      <td>Facility/Infrastructure Attack</td>\n",
       "      <td>NaN</td>\n",
       "      <td>NaN</td>\n",
       "      <td>Government (Diplomatic)</td>\n",
       "      <td>NaN</td>\n",
       "      <td>Incendiary</td>\n",
       "      <td>NaN</td>\n",
       "      <td>NaN</td>\n",
       "      <td>NaN</td>\n",
       "      <td>Unknown</td>\n",
       "      <td>NaN</td>\n",
       "      <td>NaN</td>\n",
       "    </tr>\n",
       "  </tbody>\n",
       "</table>\n",
       "</div>"
      ],
      "text/plain": [
       "        eventid  iyear  imonth  iday         country_txt           city  \\\n",
       "0  197000000001   1970       7     2  Dominican Republic  Santo Domingo   \n",
       "1  197000000002   1970       0     0              Mexico    Mexico city   \n",
       "2  197001000001   1970       1     0         Philippines        Unknown   \n",
       "3  197001000002   1970       1     0              Greece         Athens   \n",
       "4  197001000003   1970       1     0               Japan        Fukouka   \n",
       "\n",
       "                    region_txt                 attacktype1_txt  \\\n",
       "0  Central America & Caribbean                   Assassination   \n",
       "1                North America     Hostage Taking (Kidnapping)   \n",
       "2               Southeast Asia                   Assassination   \n",
       "3               Western Europe               Bombing/Explosion   \n",
       "4                    East Asia  Facility/Infrastructure Attack   \n",
       "\n",
       "  attacktype2_txt attacktype3_txt                targtype1_txt targtype2_txt  \\\n",
       "0             NaN             NaN  Private Citizens & Property           NaN   \n",
       "1             NaN             NaN      Government (Diplomatic)           NaN   \n",
       "2             NaN             NaN          Journalists & Media           NaN   \n",
       "3             NaN             NaN      Government (Diplomatic)           NaN   \n",
       "4             NaN             NaN      Government (Diplomatic)           NaN   \n",
       "\n",
       "  weaptype1_txt weaptype2_txt weaptype3_txt weaptype4_txt  \\\n",
       "0       Unknown           NaN           NaN           NaN   \n",
       "1       Unknown           NaN           NaN           NaN   \n",
       "2       Unknown           NaN           NaN           NaN   \n",
       "3    Explosives           NaN           NaN           NaN   \n",
       "4    Incendiary           NaN           NaN           NaN   \n",
       "\n",
       "                                gname  nkill  nkillter  \n",
       "0                              MANO-D    1.0       NaN  \n",
       "1  23rd of September Communist League    0.0       NaN  \n",
       "2                             Unknown    1.0       NaN  \n",
       "3                             Unknown    NaN       NaN  \n",
       "4                             Unknown    NaN       NaN  "
      ]
     },
     "execution_count": 46,
     "metadata": {},
     "output_type": "execute_result"
    }
   ],
   "source": [
    "terror_df = pd.read_csv('data/final_terrorism.csv',low_memory=False)\n",
    "terror_df.head()"
   ]
  },
  {
   "cell_type": "code",
   "execution_count": 12,
   "metadata": {
    "colab": {},
    "colab_type": "code",
    "id": "igTBQaJkcLCc"
   },
   "outputs": [],
   "source": [
    "def normalize(d, target=1.0):\n",
    "    raw = sum(d.values())\n",
    "    if raw != 0:\n",
    "        factor = target/raw\n",
    "    else: \n",
    "        factor = 0\n",
    "    return {key:value*factor for key,value in d.items()}"
   ]
  },
  {
   "cell_type": "markdown",
   "metadata": {
    "colab_type": "text",
    "id": "rBxsHqJjMHPR"
   },
   "source": [
    "In this part, we are trying to analyse the evolution of terrorism since 1970 :\n",
    "- regions with the highest number of attaks per year\n",
    "- weapon's type per year and region\n",
    "- terrorist group across years"
   ]
  },
  {
   "cell_type": "markdown",
   "metadata": {
    "colab_type": "text",
    "id": "GtrxVt5wLaXU"
   },
   "source": [
    "## Region terrorism across year"
   ]
  },
  {
   "cell_type": "code",
   "execution_count": 47,
   "metadata": {
    "colab": {
     "base_uri": "https://localhost:8080/",
     "height": 817
    },
    "colab_type": "code",
    "id": "O5H6IpYoLZku",
    "outputId": "01b9113b-c4e2-4fae-c859-2f39b331a38f"
   },
   "outputs": [],
   "source": [
    "dict_region = {}\n",
    "for year, group in terror_df.groupby('iyear'):\n",
    "    dict_region[year] = {}\n",
    "    for txt in ['region_txt']:\n",
    "        regions = group[txt].value_counts().to_dict()\n",
    "        # Keep region with the highest number of attacks on current year\n",
    "        dict_region[year] = max(regions, key=regions.get)\n",
    "\n",
    "# dict_region"
   ]
  },
  {
   "cell_type": "markdown",
   "metadata": {
    "colab_type": "text",
    "id": "mPXpR3Z9Nvve"
   },
   "source": [
    "As we can see, terrorism evolves a lot. In the following, we are focusing on different parts of the world:\n",
    "- South Asia\n",
    "- Middle East & North Africa\n",
    "- South America\n",
    "- Western Europe\n",
    "- North America"
   ]
  },
  {
   "cell_type": "markdown",
   "metadata": {
    "colab_type": "text",
    "id": "7pMxhauFQXWa"
   },
   "source": [
    "### Number of attacks"
   ]
  },
  {
   "cell_type": "code",
   "execution_count": 8,
   "metadata": {
    "colab": {},
    "colab_type": "code",
    "id": "WjXmfAFXQevL"
   },
   "outputs": [],
   "source": [
    "regions = {}\n",
    "\n",
    "for year, group in terror_df.groupby('iyear'):\n",
    "    dict_region[year] = {}\n",
    "    for txt in ['region_txt']:\n",
    "        regions[year] = group[txt].value_counts().to_dict()"
   ]
  },
  {
   "cell_type": "code",
   "execution_count": 9,
   "metadata": {
    "colab": {
     "base_uri": "https://localhost:8080/",
     "height": 265
    },
    "colab_type": "code",
    "id": "rNK6ASSAQ2b6",
    "outputId": "4fed3fa9-f651-42a3-b666-310ce9cf2b67"
   },
   "outputs": [
    {
     "data": {
      "image/png": "[encoded data removed]",
      "text/plain": [
       "<Figure size 432x288 with 1 Axes>"
      ]
     },
     "metadata": {
      "needs_background": "light"
     },
     "output_type": "display_data"
    },
    {
     "data": {
      "image/png": "[encoded data removed]",
      "text/plain": [
       "<Figure size 432x288 with 1 Axes>"
      ]
     },
     "metadata": {
      "needs_background": "light"
     },
     "output_type": "display_data"
    },
    {
     "data": {
      "image/png": "[encoded data removed]",
      "text/plain": [
       "<Figure size 432x288 with 1 Axes>"
      ]
     },
     "metadata": {
      "needs_background": "light"
     },
     "output_type": "display_data"
    },
    {
     "data": {
      "image/png": "[encoded data removed]",
      "text/plain": [
       "<Figure size 432x288 with 1 Axes>"
      ]
     },
     "metadata": {
      "needs_background": "light"
     },
     "output_type": "display_data"
    },
    {
     "data": {
      "image/png": "[encoded data removed]",
      "text/plain": [
       "<Figure size 432x288 with 1 Axes>"
      ]
     },
     "metadata": {
      "needs_background": "light"
     },
     "output_type": "display_data"
    },
    {
     "data": {
      "image/png": "[encoded data removed]",
      "text/plain": [
       "<Figure size 432x288 with 1 Axes>"
      ]
     },
     "metadata": {
      "needs_background": "light"
     },
     "output_type": "display_data"
    }
   ],
   "source": [
    "regions_df = pd.DataFrame(regions).transpose()\n",
    "imp_regions = regions_df[['North America','South Asia', 'Middle East & North Africa', 'South America','Western Europe']]\n",
    "for region in imp_regions.columns:\n",
    "    imp_regions[region].plot(legend=True)\n",
    "    plt.show()\n",
    "    \n",
    "imp_regions.plot(legend=True)\n",
    "plt.show()"
   ]
  },
  {
   "cell_type": "markdown",
   "metadata": {
    "colab_type": "text",
    "id": "Vq1Hu4S1Zlsk"
   },
   "source": [
    "## Weapons"
   ]
  },
  {
   "cell_type": "markdown",
   "metadata": {
    "colab_type": "text",
    "id": "9hS2vdnKQJq5"
   },
   "source": [
    "### North America"
   ]
  },
  {
   "cell_type": "code",
   "execution_count": 52,
   "metadata": {
    "colab": {},
    "colab_type": "code",
    "id": "0LfMvLppQJq7"
   },
   "outputs": [],
   "source": [
    "df = terror_df[terror_df.region_txt.isin(['North America'])]"
   ]
  },
  {
   "cell_type": "code",
   "execution_count": 53,
   "metadata": {
    "colab": {},
    "colab_type": "code",
    "id": "pWCuJnCOQJq_"
   },
   "outputs": [],
   "source": [
    "dict_weapons = {}\n",
    "for year, group in df.groupby('iyear'):\n",
    "    dict_weapons[year] = {}\n",
    "    for txt in ['weaptype1_txt','weaptype2_txt','weaptype3_txt']:\n",
    "        weapons = group[txt].value_counts().to_dict()\n",
    "        for weapon in weapons.keys():\n",
    "            if weapon not in ['Unknown','Other'] and weapon in dict_weapons:\n",
    "                dict_weapons[year][weapon] += weapons[weapon]\n",
    "            elif weapon not in ['Unknown','Other']:\n",
    "                dict_weapons[year][weapon] = weapons[weapon]"
   ]
  },
  {
   "cell_type": "code",
   "execution_count": 54,
   "metadata": {
    "colab": {
     "base_uri": "https://localhost:8080/",
     "height": 214
    },
    "colab_type": "code",
    "id": "s8D647OUQJrB",
    "outputId": "1f5d3a81-8aa3-4278-e390-3315bb2963ed"
   },
   "outputs": [
    {
     "data": {
      "text/html": [
       "<div>\n",
       "<style scoped>\n",
       "    .dataframe tbody tr th:only-of-type {\n",
       "        vertical-align: middle;\n",
       "    }\n",
       "\n",
       "    .dataframe tbody tr th {\n",
       "        vertical-align: top;\n",
       "    }\n",
       "\n",
       "    .dataframe thead th {\n",
       "        text-align: right;\n",
       "    }\n",
       "</style>\n",
       "<table border=\"1\" class=\"dataframe\">\n",
       "  <thead>\n",
       "    <tr style=\"text-align: right;\">\n",
       "      <th></th>\n",
       "      <th>Explosives</th>\n",
       "      <th>Incendiary</th>\n",
       "      <th>Firearms</th>\n",
       "      <th>Melee</th>\n",
       "      <th>Chemical</th>\n",
       "      <th>Sabotage Equipment</th>\n",
       "      <th>Fake Weapons</th>\n",
       "      <th>Biological</th>\n",
       "      <th>Vehicle (not to include vehicle-borne explosives, i.e., car or truck bombs)</th>\n",
       "    </tr>\n",
       "  </thead>\n",
       "  <tbody>\n",
       "    <tr>\n",
       "      <th>1970</th>\n",
       "      <td>1.0</td>\n",
       "      <td>2.0</td>\n",
       "      <td>6.0</td>\n",
       "      <td>1.0</td>\n",
       "      <td>2.0</td>\n",
       "      <td>2.0</td>\n",
       "      <td>1.0</td>\n",
       "      <td>0.0</td>\n",
       "      <td>0.0</td>\n",
       "    </tr>\n",
       "    <tr>\n",
       "      <th>1971</th>\n",
       "      <td>142.0</td>\n",
       "      <td>74.0</td>\n",
       "      <td>1.0</td>\n",
       "      <td>1.0</td>\n",
       "      <td>1.0</td>\n",
       "      <td>1.0</td>\n",
       "      <td>0.0</td>\n",
       "      <td>0.0</td>\n",
       "      <td>0.0</td>\n",
       "    </tr>\n",
       "    <tr>\n",
       "      <th>1972</th>\n",
       "      <td>45.0</td>\n",
       "      <td>13.0</td>\n",
       "      <td>2.0</td>\n",
       "      <td>0.0</td>\n",
       "      <td>0.0</td>\n",
       "      <td>0.0</td>\n",
       "      <td>1.0</td>\n",
       "      <td>0.0</td>\n",
       "      <td>0.0</td>\n",
       "    </tr>\n",
       "    <tr>\n",
       "      <th>1973</th>\n",
       "      <td>20.0</td>\n",
       "      <td>1.0</td>\n",
       "      <td>1.0</td>\n",
       "      <td>2.0</td>\n",
       "      <td>1.0</td>\n",
       "      <td>0.0</td>\n",
       "      <td>0.0</td>\n",
       "      <td>0.0</td>\n",
       "      <td>0.0</td>\n",
       "    </tr>\n",
       "    <tr>\n",
       "      <th>1974</th>\n",
       "      <td>74.0</td>\n",
       "      <td>7.0</td>\n",
       "      <td>15.0</td>\n",
       "      <td>2.0</td>\n",
       "      <td>4.0</td>\n",
       "      <td>0.0</td>\n",
       "      <td>1.0</td>\n",
       "      <td>0.0</td>\n",
       "      <td>0.0</td>\n",
       "    </tr>\n",
       "  </tbody>\n",
       "</table>\n",
       "</div>"
      ],
      "text/plain": [
       "      Explosives  Incendiary  Firearms  Melee  Chemical  Sabotage Equipment  \\\n",
       "1970         1.0         2.0       6.0    1.0       2.0                 2.0   \n",
       "1971       142.0        74.0       1.0    1.0       1.0                 1.0   \n",
       "1972        45.0        13.0       2.0    0.0       0.0                 0.0   \n",
       "1973        20.0         1.0       1.0    2.0       1.0                 0.0   \n",
       "1974        74.0         7.0      15.0    2.0       4.0                 0.0   \n",
       "\n",
       "      Fake Weapons  Biological  \\\n",
       "1970           1.0         0.0   \n",
       "1971           0.0         0.0   \n",
       "1972           1.0         0.0   \n",
       "1973           0.0         0.0   \n",
       "1974           1.0         0.0   \n",
       "\n",
       "      Vehicle (not to include vehicle-borne explosives, i.e., car or truck bombs)  \n",
       "1970                                                0.0                            \n",
       "1971                                                0.0                            \n",
       "1972                                                0.0                            \n",
       "1973                                                0.0                            \n",
       "1974                                                0.0                            "
      ]
     },
     "execution_count": 54,
     "metadata": {},
     "output_type": "execute_result"
    }
   ],
   "source": [
    "# for k in dict_weapons.keys():\n",
    "#     dict_weapons[k] = normalize(dict_weapons[k])\n",
    "\n",
    "weapons_df = pd.DataFrame(dict_weapons).transpose()\n",
    "weapons_df.fillna(0,inplace=True)\n",
    "weapons_df.head()"
   ]
  },
  {
   "cell_type": "code",
   "execution_count": 55,
   "metadata": {},
   "outputs": [],
   "source": [
    "imp_weapons = weapons_df.columns[weapons_df.sum() > 50] # We keep only the weapons that are the more present"
   ]
  },
  {
   "cell_type": "code",
   "execution_count": 56,
   "metadata": {
    "colab": {
     "base_uri": "https://localhost:8080/",
     "height": 498
    },
    "colab_type": "code",
    "id": "UQ6tyGRpQJrE",
    "outputId": "253d514f-c196-47e8-cbbc-50c830ee9731"
   },
   "outputs": [
    {
     "data": {
      "image/png": "[encoded data removed]",
      "text/plain": [
       "<Figure size 1440x576 with 1 Axes>"
      ]
     },
     "metadata": {
      "needs_background": "light"
     },
     "output_type": "display_data"
    }
   ],
   "source": [
    "weapons_df[imp_weapons].plot(kind='bar', legend=True,figsize=(20,8))\n",
    "plt.show()"
   ]
  },
  {
   "cell_type": "markdown",
   "metadata": {
    "colab_type": "text",
    "id": "6uvA2C-9OUJ8"
   },
   "source": [
    "### Western Europe"
   ]
  },
  {
   "cell_type": "code",
   "execution_count": 38,
   "metadata": {
    "colab": {},
    "colab_type": "code",
    "id": "XbJmCM07fbhK"
   },
   "outputs": [],
   "source": [
    "df = terror_df[terror_df.region_txt.isin(['Western Europe'])]"
   ]
  },
  {
   "cell_type": "code",
   "execution_count": 39,
   "metadata": {
    "colab": {},
    "colab_type": "code",
    "id": "9JhdsbmN2KEk"
   },
   "outputs": [],
   "source": [
    "dict_weapons = {}\n",
    "for year, group in df.groupby('iyear'):\n",
    "    dict_weapons[year] = {}\n",
    "    for txt in ['weaptype1_txt','weaptype2_txt','weaptype3_txt']:\n",
    "        weapons = group[txt].value_counts().to_dict()\n",
    "        for weapon in weapons.keys():\n",
    "            if weapon not in ['Unknown','Other'] and weapon in dict_weapons:\n",
    "                dict_weapons[year][weapon] += weapons[weapon]\n",
    "            elif weapon not in ['Unknown','Other']:\n",
    "                dict_weapons[year][weapon] = weapons[weapon]"
   ]
  },
  {
   "cell_type": "code",
   "execution_count": 40,
   "metadata": {
    "colab": {
     "base_uri": "https://localhost:8080/",
     "height": 214
    },
    "colab_type": "code",
    "id": "t-avwX7R2KEr",
    "outputId": "e91bab33-cc15-4a32-effc-06a7b714de39"
   },
   "outputs": [
    {
     "data": {
      "text/html": [
       "<div>\n",
       "<style scoped>\n",
       "    .dataframe tbody tr th:only-of-type {\n",
       "        vertical-align: middle;\n",
       "    }\n",
       "\n",
       "    .dataframe tbody tr th {\n",
       "        vertical-align: top;\n",
       "    }\n",
       "\n",
       "    .dataframe thead th {\n",
       "        text-align: right;\n",
       "    }\n",
       "</style>\n",
       "<table border=\"1\" class=\"dataframe\">\n",
       "  <thead>\n",
       "    <tr style=\"text-align: right;\">\n",
       "      <th></th>\n",
       "      <th>Firearms</th>\n",
       "      <th>Explosives</th>\n",
       "      <th>Incendiary</th>\n",
       "      <th>Chemical</th>\n",
       "      <th>Melee</th>\n",
       "      <th>Radiological</th>\n",
       "      <th>Biological</th>\n",
       "      <th>Vehicle (not to include vehicle-borne explosives, i.e., car or truck bombs)</th>\n",
       "      <th>Fake Weapons</th>\n",
       "      <th>Sabotage Equipment</th>\n",
       "    </tr>\n",
       "  </thead>\n",
       "  <tbody>\n",
       "    <tr>\n",
       "      <th>1970</th>\n",
       "      <td>2.0</td>\n",
       "      <td>3.0</td>\n",
       "      <td>1.0</td>\n",
       "      <td>1.0</td>\n",
       "      <td>0.0</td>\n",
       "      <td>0.0</td>\n",
       "      <td>0.0</td>\n",
       "      <td>0.0</td>\n",
       "      <td>0.0</td>\n",
       "      <td>0.0</td>\n",
       "    </tr>\n",
       "    <tr>\n",
       "      <th>1971</th>\n",
       "      <td>1.0</td>\n",
       "      <td>5.0</td>\n",
       "      <td>3.0</td>\n",
       "      <td>0.0</td>\n",
       "      <td>0.0</td>\n",
       "      <td>0.0</td>\n",
       "      <td>0.0</td>\n",
       "      <td>0.0</td>\n",
       "      <td>0.0</td>\n",
       "      <td>0.0</td>\n",
       "    </tr>\n",
       "    <tr>\n",
       "      <th>1972</th>\n",
       "      <td>3.0</td>\n",
       "      <td>103.0</td>\n",
       "      <td>3.0</td>\n",
       "      <td>0.0</td>\n",
       "      <td>1.0</td>\n",
       "      <td>0.0</td>\n",
       "      <td>0.0</td>\n",
       "      <td>0.0</td>\n",
       "      <td>0.0</td>\n",
       "      <td>0.0</td>\n",
       "    </tr>\n",
       "    <tr>\n",
       "      <th>1973</th>\n",
       "      <td>5.0</td>\n",
       "      <td>5.0</td>\n",
       "      <td>1.0</td>\n",
       "      <td>2.0</td>\n",
       "      <td>1.0</td>\n",
       "      <td>0.0</td>\n",
       "      <td>0.0</td>\n",
       "      <td>0.0</td>\n",
       "      <td>0.0</td>\n",
       "      <td>0.0</td>\n",
       "    </tr>\n",
       "    <tr>\n",
       "      <th>1974</th>\n",
       "      <td>4.0</td>\n",
       "      <td>2.0</td>\n",
       "      <td>2.0</td>\n",
       "      <td>0.0</td>\n",
       "      <td>3.0</td>\n",
       "      <td>1.0</td>\n",
       "      <td>0.0</td>\n",
       "      <td>0.0</td>\n",
       "      <td>0.0</td>\n",
       "      <td>0.0</td>\n",
       "    </tr>\n",
       "  </tbody>\n",
       "</table>\n",
       "</div>"
      ],
      "text/plain": [
       "      Firearms  Explosives  Incendiary  Chemical  Melee  Radiological  \\\n",
       "1970       2.0         3.0         1.0       1.0    0.0           0.0   \n",
       "1971       1.0         5.0         3.0       0.0    0.0           0.0   \n",
       "1972       3.0       103.0         3.0       0.0    1.0           0.0   \n",
       "1973       5.0         5.0         1.0       2.0    1.0           0.0   \n",
       "1974       4.0         2.0         2.0       0.0    3.0           1.0   \n",
       "\n",
       "      Biological  \\\n",
       "1970         0.0   \n",
       "1971         0.0   \n",
       "1972         0.0   \n",
       "1973         0.0   \n",
       "1974         0.0   \n",
       "\n",
       "      Vehicle (not to include vehicle-borne explosives, i.e., car or truck bombs)  \\\n",
       "1970                                                0.0                             \n",
       "1971                                                0.0                             \n",
       "1972                                                0.0                             \n",
       "1973                                                0.0                             \n",
       "1974                                                0.0                             \n",
       "\n",
       "      Fake Weapons  Sabotage Equipment  \n",
       "1970           0.0                 0.0  \n",
       "1971           0.0                 0.0  \n",
       "1972           0.0                 0.0  \n",
       "1973           0.0                 0.0  \n",
       "1974           0.0                 0.0  "
      ]
     },
     "execution_count": 40,
     "metadata": {},
     "output_type": "execute_result"
    }
   ],
   "source": [
    "# for k in dict_weapons.keys():\n",
    "#     dict_weapons[k] = normalize(dict_weapons[k])\n",
    "\n",
    "weapons_df = pd.DataFrame(dict_weapons).transpose()\n",
    "weapons_df.fillna(0,inplace=True)\n",
    "weapons_df.head()"
   ]
  },
  {
   "cell_type": "code",
   "execution_count": 42,
   "metadata": {},
   "outputs": [],
   "source": [
    "imp_weapons = weapons_df.columns[weapons_df.sum() > 100] # We keep only the weapons that are the more present"
   ]
  },
  {
   "cell_type": "code",
   "execution_count": 44,
   "metadata": {
    "colab": {
     "base_uri": "https://localhost:8080/",
     "height": 498
    },
    "colab_type": "code",
    "id": "S8AyJt_x2KEy",
    "outputId": "94a679bc-5e13-45ba-c13f-02d2a900af27"
   },
   "outputs": [
    {
     "data": {
      "image/png": "[encoded data removed]",
      "text/plain": [
       "<Figure size 1368x576 with 1 Axes>"
      ]
     },
     "metadata": {
      "needs_background": "light"
     },
     "output_type": "display_data"
    }
   ],
   "source": [
    "weapons_df[imp_weapons].plot(kind='bar', legend=True,figsize=(19,8))\n",
    "plt.show()"
   ]
  },
  {
   "cell_type": "markdown",
   "metadata": {
    "colab_type": "text",
    "id": "8obaC6rBOhci"
   },
   "source": [
    "### South America"
   ]
  },
  {
   "cell_type": "code",
   "execution_count": 57,
   "metadata": {
    "colab": {},
    "colab_type": "code",
    "id": "Cb6r4Xfwjx3j"
   },
   "outputs": [],
   "source": [
    "df = terror_df[terror_df.region_txt.isin(['South America'])]"
   ]
  },
  {
   "cell_type": "code",
   "execution_count": 58,
   "metadata": {
    "colab": {},
    "colab_type": "code",
    "id": "sWL9Vp7G2fYK"
   },
   "outputs": [],
   "source": [
    "dict_weapons = {}\n",
    "for year, group in df.groupby('iyear'):\n",
    "    dict_weapons[year] = {}\n",
    "    for txt in ['weaptype1_txt','weaptype2_txt','weaptype3_txt']:\n",
    "        weapons = group[txt].value_counts().to_dict()\n",
    "        for weapon in weapons.keys():\n",
    "            if weapon not in ['Unknown','Other'] and weapon in dict_weapons:\n",
    "                dict_weapons[year][weapon] += weapons[weapon]\n",
    "            elif weapon not in ['Unknown','Other']:\n",
    "                dict_weapons[year][weapon] = weapons[weapon]"
   ]
  },
  {
   "cell_type": "code",
   "execution_count": 59,
   "metadata": {
    "colab": {
     "base_uri": "https://localhost:8080/",
     "height": 214
    },
    "colab_type": "code",
    "id": "l-wrNKXT2fYR",
    "outputId": "853d1b37-284b-437a-88f2-ca7a18442ba2"
   },
   "outputs": [
    {
     "data": {
      "text/html": [
       "<div>\n",
       "<style scoped>\n",
       "    .dataframe tbody tr th:only-of-type {\n",
       "        vertical-align: middle;\n",
       "    }\n",
       "\n",
       "    .dataframe tbody tr th {\n",
       "        vertical-align: top;\n",
       "    }\n",
       "\n",
       "    .dataframe thead th {\n",
       "        text-align: right;\n",
       "    }\n",
       "</style>\n",
       "<table border=\"1\" class=\"dataframe\">\n",
       "  <thead>\n",
       "    <tr style=\"text-align: right;\">\n",
       "      <th></th>\n",
       "      <th>Firearms</th>\n",
       "      <th>Explosives</th>\n",
       "      <th>Incendiary</th>\n",
       "      <th>Sabotage Equipment</th>\n",
       "      <th>Melee</th>\n",
       "      <th>Chemical</th>\n",
       "      <th>Vehicle (not to include vehicle-borne explosives, i.e., car or truck bombs)</th>\n",
       "      <th>Fake Weapons</th>\n",
       "      <th>Biological</th>\n",
       "    </tr>\n",
       "  </thead>\n",
       "  <tbody>\n",
       "    <tr>\n",
       "      <th>1970</th>\n",
       "      <td>4.0</td>\n",
       "      <td>12.0</td>\n",
       "      <td>1.0</td>\n",
       "      <td>0.0</td>\n",
       "      <td>0.0</td>\n",
       "      <td>0.0</td>\n",
       "      <td>0.0</td>\n",
       "      <td>0.0</td>\n",
       "      <td>0.0</td>\n",
       "    </tr>\n",
       "    <tr>\n",
       "      <th>1971</th>\n",
       "      <td>1.0</td>\n",
       "      <td>3.0</td>\n",
       "      <td>1.0</td>\n",
       "      <td>0.0</td>\n",
       "      <td>0.0</td>\n",
       "      <td>0.0</td>\n",
       "      <td>0.0</td>\n",
       "      <td>0.0</td>\n",
       "      <td>0.0</td>\n",
       "    </tr>\n",
       "    <tr>\n",
       "      <th>1972</th>\n",
       "      <td>5.0</td>\n",
       "      <td>21.0</td>\n",
       "      <td>0.0</td>\n",
       "      <td>0.0</td>\n",
       "      <td>0.0</td>\n",
       "      <td>0.0</td>\n",
       "      <td>0.0</td>\n",
       "      <td>0.0</td>\n",
       "      <td>0.0</td>\n",
       "    </tr>\n",
       "    <tr>\n",
       "      <th>1973</th>\n",
       "      <td>1.0</td>\n",
       "      <td>24.0</td>\n",
       "      <td>2.0</td>\n",
       "      <td>0.0</td>\n",
       "      <td>0.0</td>\n",
       "      <td>0.0</td>\n",
       "      <td>0.0</td>\n",
       "      <td>0.0</td>\n",
       "      <td>0.0</td>\n",
       "    </tr>\n",
       "    <tr>\n",
       "      <th>1974</th>\n",
       "      <td>1.0</td>\n",
       "      <td>2.0</td>\n",
       "      <td>5.0</td>\n",
       "      <td>0.0</td>\n",
       "      <td>0.0</td>\n",
       "      <td>0.0</td>\n",
       "      <td>0.0</td>\n",
       "      <td>0.0</td>\n",
       "      <td>0.0</td>\n",
       "    </tr>\n",
       "  </tbody>\n",
       "</table>\n",
       "</div>"
      ],
      "text/plain": [
       "      Firearms  Explosives  Incendiary  Sabotage Equipment  Melee  Chemical  \\\n",
       "1970       4.0        12.0         1.0                 0.0    0.0       0.0   \n",
       "1971       1.0         3.0         1.0                 0.0    0.0       0.0   \n",
       "1972       5.0        21.0         0.0                 0.0    0.0       0.0   \n",
       "1973       1.0        24.0         2.0                 0.0    0.0       0.0   \n",
       "1974       1.0         2.0         5.0                 0.0    0.0       0.0   \n",
       "\n",
       "      Vehicle (not to include vehicle-borne explosives, i.e., car or truck bombs)  \\\n",
       "1970                                                0.0                             \n",
       "1971                                                0.0                             \n",
       "1972                                                0.0                             \n",
       "1973                                                0.0                             \n",
       "1974                                                0.0                             \n",
       "\n",
       "      Fake Weapons  Biological  \n",
       "1970           0.0         0.0  \n",
       "1971           0.0         0.0  \n",
       "1972           0.0         0.0  \n",
       "1973           0.0         0.0  \n",
       "1974           0.0         0.0  "
      ]
     },
     "execution_count": 59,
     "metadata": {},
     "output_type": "execute_result"
    }
   ],
   "source": [
    "# for k in dict_weapons.keys():\n",
    "#   dict_weapons[k] = normalize(dict_weapons[k])\n",
    "\n",
    "weapons_df = pd.DataFrame(dict_weapons).transpose()\n",
    "weapons_df.fillna(0,inplace=True)\n",
    "weapons_df.head()"
   ]
  },
  {
   "cell_type": "code",
   "execution_count": 63,
   "metadata": {},
   "outputs": [],
   "source": [
    "imp_weapons = weapons_df.columns[weapons_df.sum() > 90] # We keep only the weapons that are the more present\n",
    "# weapons_df.sum()"
   ]
  },
  {
   "cell_type": "code",
   "execution_count": 64,
   "metadata": {
    "colab": {
     "base_uri": "https://localhost:8080/",
     "height": 498
    },
    "colab_type": "code",
    "id": "xfFSCRG92fYW",
    "outputId": "0e589a93-9b34-4f90-f50b-af2a5b773958"
   },
   "outputs": [
    {
     "data": {
      "image/png": "[encoded data removed]",
      "text/plain": [
       "<Figure size 1368x576 with 1 Axes>"
      ]
     },
     "metadata": {
      "needs_background": "light"
     },
     "output_type": "display_data"
    }
   ],
   "source": [
    "weapons_df[imp_weapons].plot(kind='bar', legend=True,figsize=(19,8))\n",
    "plt.show()"
   ]
  },
  {
   "cell_type": "markdown",
   "metadata": {
    "colab_type": "text",
    "id": "s5XLdRVkO5A-"
   },
   "source": [
    "### South Asia"
   ]
  },
  {
   "cell_type": "code",
   "execution_count": 65,
   "metadata": {
    "colab": {},
    "colab_type": "code",
    "id": "wUw-SVpGO5BA"
   },
   "outputs": [],
   "source": [
    "df = terror_df[terror_df.region_txt.isin(['South Asia'])]"
   ]
  },
  {
   "cell_type": "code",
   "execution_count": 66,
   "metadata": {
    "colab": {},
    "colab_type": "code",
    "id": "ZcdiSqcfO5BD"
   },
   "outputs": [],
   "source": [
    "dict_weapons = {}\n",
    "for year, group in df.groupby('iyear'):\n",
    "    dict_weapons[year] = {}\n",
    "    for txt in ['weaptype1_txt','weaptype2_txt','weaptype3_txt']:\n",
    "        weapons = group[txt].value_counts().to_dict()\n",
    "        for weapon in weapons.keys():\n",
    "            if weapon not in ['Unknown','Other'] and weapon in dict_weapons:\n",
    "                dict_weapons[year][weapon] += weapons[weapon]\n",
    "            elif weapon not in ['Unknown','Other']:\n",
    "                dict_weapons[year][weapon] = weapons[weapon]"
   ]
  },
  {
   "cell_type": "code",
   "execution_count": 67,
   "metadata": {
    "colab": {
     "base_uri": "https://localhost:8080/",
     "height": 214
    },
    "colab_type": "code",
    "id": "kNYOG8L2O5BF",
    "outputId": "7611ff65-70bf-407e-dc32-cf3576098c8e"
   },
   "outputs": [
    {
     "data": {
      "text/html": [
       "<div>\n",
       "<style scoped>\n",
       "    .dataframe tbody tr th:only-of-type {\n",
       "        vertical-align: middle;\n",
       "    }\n",
       "\n",
       "    .dataframe tbody tr th {\n",
       "        vertical-align: top;\n",
       "    }\n",
       "\n",
       "    .dataframe thead th {\n",
       "        text-align: right;\n",
       "    }\n",
       "</style>\n",
       "<table border=\"1\" class=\"dataframe\">\n",
       "  <thead>\n",
       "    <tr style=\"text-align: right;\">\n",
       "      <th></th>\n",
       "      <th>Vehicle (not to include vehicle-borne explosives, i.e., car or truck bombs)</th>\n",
       "      <th>Explosives</th>\n",
       "      <th>Firearms</th>\n",
       "      <th>Incendiary</th>\n",
       "      <th>Melee</th>\n",
       "      <th>Sabotage Equipment</th>\n",
       "      <th>Chemical</th>\n",
       "      <th>Fake Weapons</th>\n",
       "      <th>Biological</th>\n",
       "    </tr>\n",
       "  </thead>\n",
       "  <tbody>\n",
       "    <tr>\n",
       "      <th>1970</th>\n",
       "      <td>1.0</td>\n",
       "      <td>0.0</td>\n",
       "      <td>0.0</td>\n",
       "      <td>0.0</td>\n",
       "      <td>0.0</td>\n",
       "      <td>0.0</td>\n",
       "      <td>0.0</td>\n",
       "      <td>0.0</td>\n",
       "      <td>0.0</td>\n",
       "    </tr>\n",
       "    <tr>\n",
       "      <th>1972</th>\n",
       "      <td>0.0</td>\n",
       "      <td>1.0</td>\n",
       "      <td>0.0</td>\n",
       "      <td>0.0</td>\n",
       "      <td>0.0</td>\n",
       "      <td>0.0</td>\n",
       "      <td>0.0</td>\n",
       "      <td>0.0</td>\n",
       "      <td>0.0</td>\n",
       "    </tr>\n",
       "    <tr>\n",
       "      <th>1973</th>\n",
       "      <td>0.0</td>\n",
       "      <td>0.0</td>\n",
       "      <td>0.0</td>\n",
       "      <td>0.0</td>\n",
       "      <td>0.0</td>\n",
       "      <td>0.0</td>\n",
       "      <td>0.0</td>\n",
       "      <td>0.0</td>\n",
       "      <td>0.0</td>\n",
       "    </tr>\n",
       "    <tr>\n",
       "      <th>1974</th>\n",
       "      <td>0.0</td>\n",
       "      <td>1.0</td>\n",
       "      <td>1.0</td>\n",
       "      <td>0.0</td>\n",
       "      <td>0.0</td>\n",
       "      <td>0.0</td>\n",
       "      <td>0.0</td>\n",
       "      <td>0.0</td>\n",
       "      <td>0.0</td>\n",
       "    </tr>\n",
       "    <tr>\n",
       "      <th>1975</th>\n",
       "      <td>0.0</td>\n",
       "      <td>2.0</td>\n",
       "      <td>2.0</td>\n",
       "      <td>0.0</td>\n",
       "      <td>0.0</td>\n",
       "      <td>0.0</td>\n",
       "      <td>0.0</td>\n",
       "      <td>0.0</td>\n",
       "      <td>0.0</td>\n",
       "    </tr>\n",
       "  </tbody>\n",
       "</table>\n",
       "</div>"
      ],
      "text/plain": [
       "      Vehicle (not to include vehicle-borne explosives, i.e., car or truck bombs)  \\\n",
       "1970                                                1.0                             \n",
       "1972                                                0.0                             \n",
       "1973                                                0.0                             \n",
       "1974                                                0.0                             \n",
       "1975                                                0.0                             \n",
       "\n",
       "      Explosives  Firearms  Incendiary  Melee  Sabotage Equipment  Chemical  \\\n",
       "1970         0.0       0.0         0.0    0.0                 0.0       0.0   \n",
       "1972         1.0       0.0         0.0    0.0                 0.0       0.0   \n",
       "1973         0.0       0.0         0.0    0.0                 0.0       0.0   \n",
       "1974         1.0       1.0         0.0    0.0                 0.0       0.0   \n",
       "1975         2.0       2.0         0.0    0.0                 0.0       0.0   \n",
       "\n",
       "      Fake Weapons  Biological  \n",
       "1970           0.0         0.0  \n",
       "1972           0.0         0.0  \n",
       "1973           0.0         0.0  \n",
       "1974           0.0         0.0  \n",
       "1975           0.0         0.0  "
      ]
     },
     "execution_count": 67,
     "metadata": {},
     "output_type": "execute_result"
    }
   ],
   "source": [
    "# for k in dict_weapons.keys():\n",
    "#   dict_weapons[k] = normalize(dict_weapons[k])\n",
    "\n",
    "weapons_df = pd.DataFrame(dict_weapons).transpose()\n",
    "weapons_df.fillna(0,inplace=True)\n",
    "weapons_df.head()"
   ]
  },
  {
   "cell_type": "code",
   "execution_count": 69,
   "metadata": {},
   "outputs": [],
   "source": [
    "imp_weapons = weapons_df.columns[weapons_df.sum() > 90] # We keep only the weapons that are the more present"
   ]
  },
  {
   "cell_type": "code",
   "execution_count": 70,
   "metadata": {
    "colab": {
     "base_uri": "https://localhost:8080/",
     "height": 498
    },
    "colab_type": "code",
    "id": "uS0b2iQUO5BI",
    "outputId": "f21e0ae3-eac9-4366-adde-8d2404c1629c"
   },
   "outputs": [
    {
     "data": {
      "image/png": "[encoded data removed]",
      "text/plain": [
       "<Figure size 1368x576 with 1 Axes>"
      ]
     },
     "metadata": {
      "needs_background": "light"
     },
     "output_type": "display_data"
    }
   ],
   "source": [
    "weapons_df[imp_weapons].plot(kind='bar', legend=True,figsize=(19,8))\n",
    "plt.show()"
   ]
  },
  {
   "cell_type": "markdown",
   "metadata": {
    "colab_type": "text",
    "id": "wbfbM7lFO4ia"
   },
   "source": [
    "### Middle East & North Africa"
   ]
  },
  {
   "cell_type": "code",
   "execution_count": 71,
   "metadata": {
    "colab": {},
    "colab_type": "code",
    "id": "HY_m8pTlO4id"
   },
   "outputs": [],
   "source": [
    "df = terror_df[terror_df.region_txt.isin(['Middle East & North Africa'])]"
   ]
  },
  {
   "cell_type": "code",
   "execution_count": 72,
   "metadata": {
    "colab": {},
    "colab_type": "code",
    "id": "P3uakpG1O4ig"
   },
   "outputs": [],
   "source": [
    "dict_weapons = {}\n",
    "for year, group in df.groupby('iyear'):\n",
    "    dict_weapons[year] = {}\n",
    "    for txt in ['weaptype1_txt','weaptype2_txt','weaptype3_txt']:\n",
    "        weapons = group[txt].value_counts().to_dict()\n",
    "        for weapon in weapons.keys():\n",
    "            if weapon not in ['Unknown','Other'] and weapon in dict_weapons:\n",
    "                dict_weapons[year][weapon] += weapons[weapon]\n",
    "            elif weapon not in ['Unknown','Other']:\n",
    "                dict_weapons[year][weapon] = weapons[weapon]"
   ]
  },
  {
   "cell_type": "code",
   "execution_count": 73,
   "metadata": {
    "colab": {
     "base_uri": "https://localhost:8080/",
     "height": 214
    },
    "colab_type": "code",
    "id": "zrsflIn2O4ii",
    "outputId": "60c7a062-2e80-4af5-945a-0601c0e99b74"
   },
   "outputs": [
    {
     "data": {
      "text/html": [
       "<div>\n",
       "<style scoped>\n",
       "    .dataframe tbody tr th:only-of-type {\n",
       "        vertical-align: middle;\n",
       "    }\n",
       "\n",
       "    .dataframe tbody tr th {\n",
       "        vertical-align: top;\n",
       "    }\n",
       "\n",
       "    .dataframe thead th {\n",
       "        text-align: right;\n",
       "    }\n",
       "</style>\n",
       "<table border=\"1\" class=\"dataframe\">\n",
       "  <thead>\n",
       "    <tr style=\"text-align: right;\">\n",
       "      <th></th>\n",
       "      <th>Explosives</th>\n",
       "      <th>Firearms</th>\n",
       "      <th>Incendiary</th>\n",
       "      <th>Melee</th>\n",
       "      <th>Chemical</th>\n",
       "      <th>Fake Weapons</th>\n",
       "      <th>Vehicle (not to include vehicle-borne explosives, i.e., car or truck bombs)</th>\n",
       "      <th>Sabotage Equipment</th>\n",
       "      <th>Biological</th>\n",
       "    </tr>\n",
       "  </thead>\n",
       "  <tbody>\n",
       "    <tr>\n",
       "      <th>1970</th>\n",
       "      <td>10.0</td>\n",
       "      <td>1.0</td>\n",
       "      <td>1.0</td>\n",
       "      <td>0.0</td>\n",
       "      <td>0.0</td>\n",
       "      <td>0.0</td>\n",
       "      <td>0.0</td>\n",
       "      <td>0.0</td>\n",
       "      <td>0.0</td>\n",
       "    </tr>\n",
       "    <tr>\n",
       "      <th>1971</th>\n",
       "      <td>1.0</td>\n",
       "      <td>1.0</td>\n",
       "      <td>1.0</td>\n",
       "      <td>0.0</td>\n",
       "      <td>0.0</td>\n",
       "      <td>0.0</td>\n",
       "      <td>0.0</td>\n",
       "      <td>0.0</td>\n",
       "      <td>0.0</td>\n",
       "    </tr>\n",
       "    <tr>\n",
       "      <th>1972</th>\n",
       "      <td>1.0</td>\n",
       "      <td>3.0</td>\n",
       "      <td>0.0</td>\n",
       "      <td>0.0</td>\n",
       "      <td>0.0</td>\n",
       "      <td>0.0</td>\n",
       "      <td>0.0</td>\n",
       "      <td>0.0</td>\n",
       "      <td>0.0</td>\n",
       "    </tr>\n",
       "    <tr>\n",
       "      <th>1973</th>\n",
       "      <td>3.0</td>\n",
       "      <td>1.0</td>\n",
       "      <td>1.0</td>\n",
       "      <td>0.0</td>\n",
       "      <td>0.0</td>\n",
       "      <td>0.0</td>\n",
       "      <td>0.0</td>\n",
       "      <td>0.0</td>\n",
       "      <td>0.0</td>\n",
       "    </tr>\n",
       "    <tr>\n",
       "      <th>1974</th>\n",
       "      <td>3.0</td>\n",
       "      <td>10.0</td>\n",
       "      <td>2.0</td>\n",
       "      <td>0.0</td>\n",
       "      <td>0.0</td>\n",
       "      <td>0.0</td>\n",
       "      <td>0.0</td>\n",
       "      <td>0.0</td>\n",
       "      <td>0.0</td>\n",
       "    </tr>\n",
       "  </tbody>\n",
       "</table>\n",
       "</div>"
      ],
      "text/plain": [
       "      Explosives  Firearms  Incendiary  Melee  Chemical  Fake Weapons  \\\n",
       "1970        10.0       1.0         1.0    0.0       0.0           0.0   \n",
       "1971         1.0       1.0         1.0    0.0       0.0           0.0   \n",
       "1972         1.0       3.0         0.0    0.0       0.0           0.0   \n",
       "1973         3.0       1.0         1.0    0.0       0.0           0.0   \n",
       "1974         3.0      10.0         2.0    0.0       0.0           0.0   \n",
       "\n",
       "      Vehicle (not to include vehicle-borne explosives, i.e., car or truck bombs)  \\\n",
       "1970                                                0.0                             \n",
       "1971                                                0.0                             \n",
       "1972                                                0.0                             \n",
       "1973                                                0.0                             \n",
       "1974                                                0.0                             \n",
       "\n",
       "      Sabotage Equipment  Biological  \n",
       "1970                 0.0         0.0  \n",
       "1971                 0.0         0.0  \n",
       "1972                 0.0         0.0  \n",
       "1973                 0.0         0.0  \n",
       "1974                 0.0         0.0  "
      ]
     },
     "execution_count": 73,
     "metadata": {},
     "output_type": "execute_result"
    }
   ],
   "source": [
    "# for k in dict_weapons.keys():\n",
    "#   dict_weapons[k] = normalize(dict_weapons[k])\n",
    "\n",
    "weapons_df = pd.DataFrame(dict_weapons).transpose()\n",
    "weapons_df.fillna(0,inplace=True)\n",
    "weapons_df.head()"
   ]
  },
  {
   "cell_type": "code",
   "execution_count": 76,
   "metadata": {},
   "outputs": [],
   "source": [
    "imp_weapons = weapons_df.columns[weapons_df.sum() > 90] # We keep only the weapons that are the more present"
   ]
  },
  {
   "cell_type": "code",
   "execution_count": 78,
   "metadata": {
    "colab": {
     "base_uri": "https://localhost:8080/",
     "height": 498
    },
    "colab_type": "code",
    "id": "TvSZJX-hO4il",
    "outputId": "cc2bf183-f757-4e80-c314-fc6b7ecce317"
   },
   "outputs": [
    {
     "data": {
      "image/png": "[encoded data removed]",
      "text/plain": [
       "<Figure size 1368x576 with 1 Axes>"
      ]
     },
     "metadata": {
      "needs_background": "light"
     },
     "output_type": "display_data"
    }
   ],
   "source": [
    "weapons_df[imp_weapons].plot(kind='bar', legend=True,figsize=(19,8))\n",
    "plt.show()"
   ]
  },
  {
   "cell_type": "markdown",
   "metadata": {
    "colab_type": "text",
    "id": "X_BKb4ZaZls1"
   },
   "source": [
    "## Type of attack"
   ]
  },
  {
   "cell_type": "markdown",
   "metadata": {
    "colab_type": "text",
    "id": "9vrSPY0XCno0"
   },
   "source": [
    "### North America"
   ]
  },
  {
   "cell_type": "code",
   "execution_count": 79,
   "metadata": {
    "colab": {},
    "colab_type": "code",
    "id": "E9dzBOPPCzXG"
   },
   "outputs": [],
   "source": [
    "df = terror_df[terror_df.region_txt.isin(['North America'])]"
   ]
  },
  {
   "cell_type": "code",
   "execution_count": 83,
   "metadata": {
    "colab": {},
    "colab_type": "code",
    "id": "qTdNis5bCno4"
   },
   "outputs": [],
   "source": [
    "dict_attack = {}\n",
    "for year, group in df.groupby('iyear'):\n",
    "    dict_attack[year] = {}\n",
    "    for txt in ['attacktype1_txt','attacktype2_txt','attacktype3_txt']:\n",
    "        attacks = group[txt].value_counts().to_dict()\n",
    "        for attack in attacks.keys():\n",
    "            if attack not in ['Unknown','Other'] and attack in dict_weapons:\n",
    "                dict_attack[year][attack] += attacks[attack]\n",
    "            elif attack not in ['Unknown','Other']:\n",
    "                dict_attack[year][attack] = attacks[attack]"
   ]
  },
  {
   "cell_type": "code",
   "execution_count": 84,
   "metadata": {
    "colab": {
     "base_uri": "https://localhost:8080/",
     "height": 214
    },
    "colab_type": "code",
    "id": "WxgxIINvCno9",
    "outputId": "1addc588-1bde-46e8-beda-31934c03d44c"
   },
   "outputs": [
    {
     "data": {
      "text/html": [
       "<div>\n",
       "<style scoped>\n",
       "    .dataframe tbody tr th:only-of-type {\n",
       "        vertical-align: middle;\n",
       "    }\n",
       "\n",
       "    .dataframe tbody tr th {\n",
       "        vertical-align: top;\n",
       "    }\n",
       "\n",
       "    .dataframe thead th {\n",
       "        text-align: right;\n",
       "    }\n",
       "</style>\n",
       "<table border=\"1\" class=\"dataframe\">\n",
       "  <thead>\n",
       "    <tr style=\"text-align: right;\">\n",
       "      <th></th>\n",
       "      <th>Bombing/Explosion</th>\n",
       "      <th>Facility/Infrastructure Attack</th>\n",
       "      <th>Armed Assault</th>\n",
       "      <th>Assassination</th>\n",
       "      <th>Hostage Taking (Kidnapping)</th>\n",
       "      <th>Hijacking</th>\n",
       "      <th>Unarmed Assault</th>\n",
       "      <th>Hostage Taking (Barricade Incident)</th>\n",
       "    </tr>\n",
       "  </thead>\n",
       "  <tbody>\n",
       "    <tr>\n",
       "      <th>1970</th>\n",
       "      <td>1.0</td>\n",
       "      <td>2.0</td>\n",
       "      <td>3.0</td>\n",
       "      <td>7.0</td>\n",
       "      <td>5.0</td>\n",
       "      <td>2.0</td>\n",
       "      <td>2.0</td>\n",
       "      <td>0.0</td>\n",
       "    </tr>\n",
       "    <tr>\n",
       "      <th>1971</th>\n",
       "      <td>141.0</td>\n",
       "      <td>1.0</td>\n",
       "      <td>21.0</td>\n",
       "      <td>4.0</td>\n",
       "      <td>1.0</td>\n",
       "      <td>1.0</td>\n",
       "      <td>0.0</td>\n",
       "      <td>0.0</td>\n",
       "    </tr>\n",
       "    <tr>\n",
       "      <th>1972</th>\n",
       "      <td>40.0</td>\n",
       "      <td>1.0</td>\n",
       "      <td>3.0</td>\n",
       "      <td>9.0</td>\n",
       "      <td>1.0</td>\n",
       "      <td>3.0</td>\n",
       "      <td>0.0</td>\n",
       "      <td>0.0</td>\n",
       "    </tr>\n",
       "    <tr>\n",
       "      <th>1973</th>\n",
       "      <td>22.0</td>\n",
       "      <td>2.0</td>\n",
       "      <td>1.0</td>\n",
       "      <td>6.0</td>\n",
       "      <td>6.0</td>\n",
       "      <td>0.0</td>\n",
       "      <td>0.0</td>\n",
       "      <td>1.0</td>\n",
       "    </tr>\n",
       "    <tr>\n",
       "      <th>1974</th>\n",
       "      <td>74.0</td>\n",
       "      <td>11.0</td>\n",
       "      <td>13.0</td>\n",
       "      <td>3.0</td>\n",
       "      <td>4.0</td>\n",
       "      <td>0.0</td>\n",
       "      <td>2.0</td>\n",
       "      <td>0.0</td>\n",
       "    </tr>\n",
       "  </tbody>\n",
       "</table>\n",
       "</div>"
      ],
      "text/plain": [
       "      Bombing/Explosion  Facility/Infrastructure Attack  Armed Assault  \\\n",
       "1970                1.0                             2.0            3.0   \n",
       "1971              141.0                             1.0           21.0   \n",
       "1972               40.0                             1.0            3.0   \n",
       "1973               22.0                             2.0            1.0   \n",
       "1974               74.0                            11.0           13.0   \n",
       "\n",
       "      Assassination  Hostage Taking (Kidnapping)  Hijacking  Unarmed Assault  \\\n",
       "1970            7.0                          5.0        2.0              2.0   \n",
       "1971            4.0                          1.0        1.0              0.0   \n",
       "1972            9.0                          1.0        3.0              0.0   \n",
       "1973            6.0                          6.0        0.0              0.0   \n",
       "1974            3.0                          4.0        0.0              2.0   \n",
       "\n",
       "      Hostage Taking (Barricade Incident)  \n",
       "1970                                  0.0  \n",
       "1971                                  0.0  \n",
       "1972                                  0.0  \n",
       "1973                                  1.0  \n",
       "1974                                  0.0  "
      ]
     },
     "execution_count": 84,
     "metadata": {},
     "output_type": "execute_result"
    }
   ],
   "source": [
    "# for k in dict_attack.keys():\n",
    "#   dict_attack[k] = normalize(dict_attack[k])\n",
    "\n",
    "attacks_df = pd.DataFrame(dict_attack).transpose()\n",
    "attacks_df.fillna(0,inplace=True)\n",
    "attacks_df.head()"
   ]
  },
  {
   "cell_type": "code",
   "execution_count": 86,
   "metadata": {},
   "outputs": [],
   "source": [
    "imp_attacks = attacks_df.columns[attacks_df.sum() > 100] # We keep only the attacks that are the more present"
   ]
  },
  {
   "cell_type": "code",
   "execution_count": 87,
   "metadata": {
    "colab": {
     "base_uri": "https://localhost:8080/",
     "height": 498
    },
    "colab_type": "code",
    "id": "QiDOu1FLCnpD",
    "outputId": "23f595f3-2d07-4d6f-f6cd-c3392f4f376c"
   },
   "outputs": [
    {
     "data": {
      "image/png": "[encoded data removed]",
      "text/plain": [
       "<Figure size 1368x576 with 1 Axes>"
      ]
     },
     "metadata": {
      "needs_background": "light"
     },
     "output_type": "display_data"
    }
   ],
   "source": [
    "attacks_df[imp_attacks].plot(kind='bar', legend=True,figsize=(19,8))\n",
    "plt.show()"
   ]
  },
  {
   "cell_type": "markdown",
   "metadata": {
    "colab_type": "text",
    "id": "sMJ6hTMMDPiq"
   },
   "source": [
    "### South and Center America"
   ]
  },
  {
   "cell_type": "code",
   "execution_count": 88,
   "metadata": {
    "colab": {},
    "colab_type": "code",
    "id": "1sMDrXO2DPit"
   },
   "outputs": [],
   "source": [
    "df = terror_df[terror_df.region_txt.isin(['Central America & Caribbean','South America'])]"
   ]
  },
  {
   "cell_type": "code",
   "execution_count": 89,
   "metadata": {
    "colab": {},
    "colab_type": "code",
    "id": "LiszBCjjDPiy"
   },
   "outputs": [],
   "source": [
    "dict_attack = {}\n",
    "for year, group in df.groupby('iyear'):\n",
    "    dict_attack[year] = {}\n",
    "    for txt in ['attacktype1_txt','attacktype2_txt','attacktype3_txt']:\n",
    "        attacks = group[txt].value_counts().to_dict()\n",
    "        for attack in attacks.keys():\n",
    "            if attack not in ['Unknown','Other'] and attack in dict_weapons:\n",
    "                dict_attack[year][attack] += attacks[attack]\n",
    "            elif attack not in ['Unknown','Other']:\n",
    "                dict_attack[year][attack] = attacks[attack]"
   ]
  },
  {
   "cell_type": "code",
   "execution_count": 90,
   "metadata": {
    "colab": {
     "base_uri": "https://localhost:8080/",
     "height": 214
    },
    "colab_type": "code",
    "id": "g3mzh7pWDPi2",
    "outputId": "7da3637e-45a3-490c-f52e-976e994de15a"
   },
   "outputs": [
    {
     "data": {
      "text/html": [
       "<div>\n",
       "<style scoped>\n",
       "    .dataframe tbody tr th:only-of-type {\n",
       "        vertical-align: middle;\n",
       "    }\n",
       "\n",
       "    .dataframe tbody tr th {\n",
       "        vertical-align: top;\n",
       "    }\n",
       "\n",
       "    .dataframe thead th {\n",
       "        text-align: right;\n",
       "    }\n",
       "</style>\n",
       "<table border=\"1\" class=\"dataframe\">\n",
       "  <thead>\n",
       "    <tr style=\"text-align: right;\">\n",
       "      <th></th>\n",
       "      <th>Hostage Taking (Kidnapping)</th>\n",
       "      <th>Bombing/Explosion</th>\n",
       "      <th>Assassination</th>\n",
       "      <th>Facility/Infrastructure Attack</th>\n",
       "      <th>Armed Assault</th>\n",
       "      <th>Hostage Taking (Barricade Incident)</th>\n",
       "      <th>Hijacking</th>\n",
       "      <th>Unarmed Assault</th>\n",
       "    </tr>\n",
       "  </thead>\n",
       "  <tbody>\n",
       "    <tr>\n",
       "      <th>1970</th>\n",
       "      <td>23.0</td>\n",
       "      <td>11.0</td>\n",
       "      <td>11.0</td>\n",
       "      <td>11.0</td>\n",
       "      <td>10.0</td>\n",
       "      <td>1.0</td>\n",
       "      <td>1.0</td>\n",
       "      <td>0.0</td>\n",
       "    </tr>\n",
       "    <tr>\n",
       "      <th>1971</th>\n",
       "      <td>10.0</td>\n",
       "      <td>3.0</td>\n",
       "      <td>3.0</td>\n",
       "      <td>2.0</td>\n",
       "      <td>10.0</td>\n",
       "      <td>0.0</td>\n",
       "      <td>0.0</td>\n",
       "      <td>0.0</td>\n",
       "    </tr>\n",
       "    <tr>\n",
       "      <th>1972</th>\n",
       "      <td>5.0</td>\n",
       "      <td>11.0</td>\n",
       "      <td>16.0</td>\n",
       "      <td>0.0</td>\n",
       "      <td>2.0</td>\n",
       "      <td>0.0</td>\n",
       "      <td>0.0</td>\n",
       "      <td>0.0</td>\n",
       "    </tr>\n",
       "    <tr>\n",
       "      <th>1973</th>\n",
       "      <td>27.0</td>\n",
       "      <td>21.0</td>\n",
       "      <td>13.0</td>\n",
       "      <td>5.0</td>\n",
       "      <td>8.0</td>\n",
       "      <td>1.0</td>\n",
       "      <td>3.0</td>\n",
       "      <td>1.0</td>\n",
       "    </tr>\n",
       "    <tr>\n",
       "      <th>1974</th>\n",
       "      <td>19.0</td>\n",
       "      <td>50.0</td>\n",
       "      <td>11.0</td>\n",
       "      <td>2.0</td>\n",
       "      <td>4.0</td>\n",
       "      <td>2.0</td>\n",
       "      <td>0.0</td>\n",
       "      <td>0.0</td>\n",
       "    </tr>\n",
       "  </tbody>\n",
       "</table>\n",
       "</div>"
      ],
      "text/plain": [
       "      Hostage Taking (Kidnapping)  Bombing/Explosion  Assassination  \\\n",
       "1970                         23.0               11.0           11.0   \n",
       "1971                         10.0                3.0            3.0   \n",
       "1972                          5.0               11.0           16.0   \n",
       "1973                         27.0               21.0           13.0   \n",
       "1974                         19.0               50.0           11.0   \n",
       "\n",
       "      Facility/Infrastructure Attack  Armed Assault  \\\n",
       "1970                            11.0           10.0   \n",
       "1971                             2.0           10.0   \n",
       "1972                             0.0            2.0   \n",
       "1973                             5.0            8.0   \n",
       "1974                             2.0            4.0   \n",
       "\n",
       "      Hostage Taking (Barricade Incident)  Hijacking  Unarmed Assault  \n",
       "1970                                  1.0        1.0              0.0  \n",
       "1971                                  0.0        0.0              0.0  \n",
       "1972                                  0.0        0.0              0.0  \n",
       "1973                                  1.0        3.0              1.0  \n",
       "1974                                  2.0        0.0              0.0  "
      ]
     },
     "execution_count": 90,
     "metadata": {},
     "output_type": "execute_result"
    }
   ],
   "source": [
    "# for k in dict_attack.keys():\n",
    "#   dict_attack[k] = normalize(dict_attack[k])\n",
    "\n",
    "attacks_df = pd.DataFrame(dict_attack).transpose()\n",
    "attacks_df.fillna(0,inplace=True)\n",
    "attacks_df.head()"
   ]
  },
  {
   "cell_type": "code",
   "execution_count": 92,
   "metadata": {},
   "outputs": [],
   "source": [
    "imp_attacks = attacks_df.columns[attacks_df.sum() > 1000] # We keep only the attacks that are the more present"
   ]
  },
  {
   "cell_type": "code",
   "execution_count": 94,
   "metadata": {
    "colab": {
     "base_uri": "https://localhost:8080/",
     "height": 498
    },
    "colab_type": "code",
    "id": "08jdGux0DPjB",
    "outputId": "27cd170d-87a0-4fd0-b588-c341cec86bdd"
   },
   "outputs": [
    {
     "data": {
      "image/png": "[encoded data removed]",
      "text/plain": [
       "<Figure size 1368x576 with 1 Axes>"
      ]
     },
     "metadata": {
      "needs_background": "light"
     },
     "output_type": "display_data"
    }
   ],
   "source": [
    "attacks_df[imp_attacks].plot(kind='bar', legend=True,figsize=(19,8))\n",
    "plt.show()"
   ]
  },
  {
   "cell_type": "markdown",
   "metadata": {
    "colab_type": "text",
    "id": "qwMrxqA0AdMd"
   },
   "source": [
    "### Africa"
   ]
  },
  {
   "cell_type": "code",
   "execution_count": 97,
   "metadata": {},
   "outputs": [],
   "source": [
    "df = terror_df[terror_df.region_txt.isin(['Sub-Saharan Africa','Middle East & North Africa'])]"
   ]
  },
  {
   "cell_type": "code",
   "execution_count": 98,
   "metadata": {
    "colab": {},
    "colab_type": "code",
    "id": "xHM73Y4UAbJf"
   },
   "outputs": [],
   "source": [
    "dict_attack = {}\n",
    "for year, group in df.groupby('iyear'):\n",
    "    dict_attack[year] = {}\n",
    "    for txt in ['attacktype1_txt','attacktype2_txt','attacktype3_txt']:\n",
    "        attacks = group.attacktype1_txt.value_counts().to_dict()\n",
    "        for attack in attacks.keys():\n",
    "            if attack not in ['Unknown','Other'] and attack in dict_weapons:\n",
    "                dict_attack[year][attack] += attacks[attack]\n",
    "            elif attack not in ['Unknown','Other']:\n",
    "                dict_attack[year][attack] = attacks[attack]"
   ]
  },
  {
   "cell_type": "code",
   "execution_count": 99,
   "metadata": {
    "colab": {
     "base_uri": "https://localhost:8080/",
     "height": 214
    },
    "colab_type": "code",
    "id": "C9s6Z_0bAbJl",
    "outputId": "c0417f29-5fd6-401f-c0ef-cf789b9344c0"
   },
   "outputs": [
    {
     "data": {
      "text/html": [
       "<div>\n",
       "<style scoped>\n",
       "    .dataframe tbody tr th:only-of-type {\n",
       "        vertical-align: middle;\n",
       "    }\n",
       "\n",
       "    .dataframe tbody tr th {\n",
       "        vertical-align: top;\n",
       "    }\n",
       "\n",
       "    .dataframe thead th {\n",
       "        text-align: right;\n",
       "    }\n",
       "</style>\n",
       "<table border=\"1\" class=\"dataframe\">\n",
       "  <thead>\n",
       "    <tr style=\"text-align: right;\">\n",
       "      <th></th>\n",
       "      <th>Bombing/Explosion</th>\n",
       "      <th>Hostage Taking (Kidnapping)</th>\n",
       "      <th>Armed Assault</th>\n",
       "      <th>Hostage Taking (Barricade Incident)</th>\n",
       "      <th>Facility/Infrastructure Attack</th>\n",
       "      <th>Hijacking</th>\n",
       "      <th>Assassination</th>\n",
       "      <th>Unarmed Assault</th>\n",
       "    </tr>\n",
       "  </thead>\n",
       "  <tbody>\n",
       "    <tr>\n",
       "      <th>1970</th>\n",
       "      <td>10.0</td>\n",
       "      <td>5.0</td>\n",
       "      <td>3.0</td>\n",
       "      <td>2.0</td>\n",
       "      <td>1.0</td>\n",
       "      <td>1.0</td>\n",
       "      <td>0.0</td>\n",
       "      <td>0.0</td>\n",
       "    </tr>\n",
       "    <tr>\n",
       "      <th>1971</th>\n",
       "      <td>25.0</td>\n",
       "      <td>4.0</td>\n",
       "      <td>6.0</td>\n",
       "      <td>0.0</td>\n",
       "      <td>1.0</td>\n",
       "      <td>3.0</td>\n",
       "      <td>1.0</td>\n",
       "      <td>0.0</td>\n",
       "    </tr>\n",
       "    <tr>\n",
       "      <th>1972</th>\n",
       "      <td>23.0</td>\n",
       "      <td>0.0</td>\n",
       "      <td>1.0</td>\n",
       "      <td>1.0</td>\n",
       "      <td>0.0</td>\n",
       "      <td>5.0</td>\n",
       "      <td>23.0</td>\n",
       "      <td>0.0</td>\n",
       "    </tr>\n",
       "    <tr>\n",
       "      <th>1973</th>\n",
       "      <td>14.0</td>\n",
       "      <td>2.0</td>\n",
       "      <td>2.0</td>\n",
       "      <td>1.0</td>\n",
       "      <td>0.0</td>\n",
       "      <td>1.0</td>\n",
       "      <td>2.0</td>\n",
       "      <td>0.0</td>\n",
       "    </tr>\n",
       "    <tr>\n",
       "      <th>1974</th>\n",
       "      <td>28.0</td>\n",
       "      <td>5.0</td>\n",
       "      <td>3.0</td>\n",
       "      <td>2.0</td>\n",
       "      <td>1.0</td>\n",
       "      <td>2.0</td>\n",
       "      <td>4.0</td>\n",
       "      <td>0.0</td>\n",
       "    </tr>\n",
       "  </tbody>\n",
       "</table>\n",
       "</div>"
      ],
      "text/plain": [
       "      Bombing/Explosion  Hostage Taking (Kidnapping)  Armed Assault  \\\n",
       "1970               10.0                          5.0            3.0   \n",
       "1971               25.0                          4.0            6.0   \n",
       "1972               23.0                          0.0            1.0   \n",
       "1973               14.0                          2.0            2.0   \n",
       "1974               28.0                          5.0            3.0   \n",
       "\n",
       "      Hostage Taking (Barricade Incident)  Facility/Infrastructure Attack  \\\n",
       "1970                                  2.0                             1.0   \n",
       "1971                                  0.0                             1.0   \n",
       "1972                                  1.0                             0.0   \n",
       "1973                                  1.0                             0.0   \n",
       "1974                                  2.0                             1.0   \n",
       "\n",
       "      Hijacking  Assassination  Unarmed Assault  \n",
       "1970        1.0            0.0              0.0  \n",
       "1971        3.0            1.0              0.0  \n",
       "1972        5.0           23.0              0.0  \n",
       "1973        1.0            2.0              0.0  \n",
       "1974        2.0            4.0              0.0  "
      ]
     },
     "execution_count": 99,
     "metadata": {},
     "output_type": "execute_result"
    }
   ],
   "source": [
    "# for k in dict_attack.keys():\n",
    "#   dict_attack[k] = normalize(dict_attack[k])\n",
    "\n",
    "attacks_df = pd.DataFrame(dict_attack).transpose()\n",
    "attacks_df.fillna(0,inplace=True)\n",
    "attacks_df.head()"
   ]
  },
  {
   "cell_type": "code",
   "execution_count": 101,
   "metadata": {},
   "outputs": [],
   "source": [
    "imp_attacks = attacks_df.columns[attacks_df.sum() > 1000] # We keep only the attacks that are the more present"
   ]
  },
  {
   "cell_type": "code",
   "execution_count": 102,
   "metadata": {
    "colab": {
     "base_uri": "https://localhost:8080/",
     "height": 498
    },
    "colab_type": "code",
    "id": "Z2MeIr1iAbJr",
    "outputId": "94a2996f-8899-406b-946e-506a43fe2caa"
   },
   "outputs": [
    {
     "data": {
      "image/png": "[encoded data removed]",
      "text/plain": [
       "<Figure size 1368x576 with 1 Axes>"
      ]
     },
     "metadata": {
      "needs_background": "light"
     },
     "output_type": "display_data"
    }
   ],
   "source": [
    "attacks_df[imp_attacks].plot(kind='bar', legend=True,figsize=(19,8))\n",
    "plt.show()"
   ]
  },
  {
   "cell_type": "markdown",
   "metadata": {
    "colab_type": "text",
    "id": "6rJWbJsjBDTa"
   },
   "source": [
    "### Western Europe"
   ]
  },
  {
   "cell_type": "code",
   "execution_count": 103,
   "metadata": {},
   "outputs": [],
   "source": [
    "df = terror_df[terror_df.region_txt.isin(['Western Europe'])]"
   ]
  },
  {
   "cell_type": "code",
   "execution_count": 104,
   "metadata": {
    "colab": {},
    "colab_type": "code",
    "id": "YwVsxrLaBCLR"
   },
   "outputs": [],
   "source": [
    "dict_attack = {}\n",
    "for year, group in df.groupby('iyear'):\n",
    "    dict_attack[year] = {}\n",
    "    for txt in ['attacktype1_txt','attacktype2_txt','attacktype3_txt']:\n",
    "        attacks = group.attacktype1_txt.value_counts().to_dict()\n",
    "        for attack in attacks.keys():\n",
    "            if attack not in ['Unknown','Other'] and attack in dict_weapons:\n",
    "                dict_attack[year][attack] += attacks[attack]\n",
    "            elif attack not in ['Unknown','Other']:\n",
    "                dict_attack[year][attack] = attacks[attack]"
   ]
  },
  {
   "cell_type": "code",
   "execution_count": 105,
   "metadata": {
    "colab": {
     "base_uri": "https://localhost:8080/",
     "height": 214
    },
    "colab_type": "code",
    "id": "c8PFYpxiBCLV",
    "outputId": "3ce3f1a9-ab8e-4b70-b38f-a803d9e440a6"
   },
   "outputs": [
    {
     "data": {
      "text/html": [
       "<div>\n",
       "<style scoped>\n",
       "    .dataframe tbody tr th:only-of-type {\n",
       "        vertical-align: middle;\n",
       "    }\n",
       "\n",
       "    .dataframe tbody tr th {\n",
       "        vertical-align: top;\n",
       "    }\n",
       "\n",
       "    .dataframe thead th {\n",
       "        text-align: right;\n",
       "    }\n",
       "</style>\n",
       "<table border=\"1\" class=\"dataframe\">\n",
       "  <thead>\n",
       "    <tr style=\"text-align: right;\">\n",
       "      <th></th>\n",
       "      <th>Bombing/Explosion</th>\n",
       "      <th>Armed Assault</th>\n",
       "      <th>Facility/Infrastructure Attack</th>\n",
       "      <th>Hijacking</th>\n",
       "      <th>Hostage Taking (Kidnapping)</th>\n",
       "      <th>Unarmed Assault</th>\n",
       "      <th>Assassination</th>\n",
       "      <th>Hostage Taking (Barricade Incident)</th>\n",
       "    </tr>\n",
       "  </thead>\n",
       "  <tbody>\n",
       "    <tr>\n",
       "      <th>1970</th>\n",
       "      <td>15.0</td>\n",
       "      <td>15.0</td>\n",
       "      <td>8.0</td>\n",
       "      <td>6.0</td>\n",
       "      <td>3.0</td>\n",
       "      <td>1.0</td>\n",
       "      <td>0.0</td>\n",
       "      <td>0.0</td>\n",
       "    </tr>\n",
       "    <tr>\n",
       "      <th>1971</th>\n",
       "      <td>44.0</td>\n",
       "      <td>4.0</td>\n",
       "      <td>6.0</td>\n",
       "      <td>1.0</td>\n",
       "      <td>3.0</td>\n",
       "      <td>0.0</td>\n",
       "      <td>24.0</td>\n",
       "      <td>0.0</td>\n",
       "    </tr>\n",
       "    <tr>\n",
       "      <th>1972</th>\n",
       "      <td>76.0</td>\n",
       "      <td>16.0</td>\n",
       "      <td>2.0</td>\n",
       "      <td>3.0</td>\n",
       "      <td>6.0</td>\n",
       "      <td>0.0</td>\n",
       "      <td>141.0</td>\n",
       "      <td>0.0</td>\n",
       "    </tr>\n",
       "    <tr>\n",
       "      <th>1973</th>\n",
       "      <td>65.0</td>\n",
       "      <td>21.0</td>\n",
       "      <td>20.0</td>\n",
       "      <td>4.0</td>\n",
       "      <td>3.0</td>\n",
       "      <td>2.0</td>\n",
       "      <td>92.0</td>\n",
       "      <td>3.0</td>\n",
       "    </tr>\n",
       "    <tr>\n",
       "      <th>1974</th>\n",
       "      <td>107.0</td>\n",
       "      <td>20.0</td>\n",
       "      <td>25.0</td>\n",
       "      <td>0.0</td>\n",
       "      <td>4.0</td>\n",
       "      <td>2.0</td>\n",
       "      <td>110.0</td>\n",
       "      <td>1.0</td>\n",
       "    </tr>\n",
       "  </tbody>\n",
       "</table>\n",
       "</div>"
      ],
      "text/plain": [
       "      Bombing/Explosion  Armed Assault  Facility/Infrastructure Attack  \\\n",
       "1970               15.0           15.0                             8.0   \n",
       "1971               44.0            4.0                             6.0   \n",
       "1972               76.0           16.0                             2.0   \n",
       "1973               65.0           21.0                            20.0   \n",
       "1974              107.0           20.0                            25.0   \n",
       "\n",
       "      Hijacking  Hostage Taking (Kidnapping)  Unarmed Assault  Assassination  \\\n",
       "1970        6.0                          3.0              1.0            0.0   \n",
       "1971        1.0                          3.0              0.0           24.0   \n",
       "1972        3.0                          6.0              0.0          141.0   \n",
       "1973        4.0                          3.0              2.0           92.0   \n",
       "1974        0.0                          4.0              2.0          110.0   \n",
       "\n",
       "      Hostage Taking (Barricade Incident)  \n",
       "1970                                  0.0  \n",
       "1971                                  0.0  \n",
       "1972                                  0.0  \n",
       "1973                                  3.0  \n",
       "1974                                  1.0  "
      ]
     },
     "execution_count": 105,
     "metadata": {},
     "output_type": "execute_result"
    }
   ],
   "source": [
    "# for k in dict_attack.keys():\n",
    "#   dict_attack[k] = normalize(dict_attack[k])\n",
    "\n",
    "attacks_df = pd.DataFrame(dict_attack).transpose()\n",
    "attacks_df.fillna(0,inplace=True)\n",
    "attacks_df.head()"
   ]
  },
  {
   "cell_type": "code",
   "execution_count": 107,
   "metadata": {},
   "outputs": [],
   "source": [
    "imp_attacks = attacks_df.columns[attacks_df.sum() > 1000] # We keep only the attacks that are the more present"
   ]
  },
  {
   "cell_type": "code",
   "execution_count": 109,
   "metadata": {
    "colab": {
     "base_uri": "https://localhost:8080/",
     "height": 498
    },
    "colab_type": "code",
    "id": "hcWN9LD4BCLa",
    "outputId": "50037598-bf2f-438f-f827-c8d84659170b"
   },
   "outputs": [
    {
     "data": {
      "image/png": "[encoded data removed]",
      "text/plain": [
       "<Figure size 1368x576 with 1 Axes>"
      ]
     },
     "metadata": {
      "needs_background": "light"
     },
     "output_type": "display_data"
    }
   ],
   "source": [
    "attacks_df[imp_attacks].plot(kind='bar', legend=True,figsize=(19,8))\n",
    "plt.show()"
   ]
  },
  {
   "cell_type": "markdown",
   "metadata": {
    "colab_type": "text",
    "id": "wU6mjJ12EpAv"
   },
   "source": [
    "## Terrorist groups"
   ]
  },
  {
   "cell_type": "code",
   "execution_count": 114,
   "metadata": {
    "colab": {
     "base_uri": "https://localhost:8080/",
     "height": 817
    },
    "colab_type": "code",
    "id": "fjCRGDntEohR",
    "outputId": "0b145a79-6817-46af-d327-7744b4d09bd0"
   },
   "outputs": [
    {
     "data": {
      "text/plain": [
       "{1970: 'Left-Wing Militants',\n",
       " 1971: 'Left-Wing Militants',\n",
       " 1972: 'Black September',\n",
       " 1973: 'Irish Republican Army (IRA)',\n",
       " 1974: 'Irish Republican Army (IRA)',\n",
       " 1975: 'Irish Republican Army (IRA)',\n",
       " 1976: 'Irish Republican Army (IRA)',\n",
       " 1977: 'Irish Republican Army (IRA)',\n",
       " 1978: 'Basque Fatherland and Freedom (ETA)',\n",
       " 1979: 'Irish Republican Army (IRA)',\n",
       " 1980: 'Farabundo Marti National Liberation Front (FMLN)',\n",
       " 1981: 'Farabundo Marti National Liberation Front (FMLN)',\n",
       " 1982: 'Shining Path (SL)',\n",
       " 1983: 'Shining Path (SL)',\n",
       " 1984: 'Shining Path (SL)',\n",
       " 1985: 'Farabundo Marti National Liberation Front (FMLN)',\n",
       " 1986: 'Shining Path (SL)',\n",
       " 1987: 'Shining Path (SL)',\n",
       " 1988: 'Farabundo Marti National Liberation Front (FMLN)',\n",
       " 1989: 'Shining Path (SL)',\n",
       " 1990: 'Shining Path (SL)',\n",
       " 1991: 'Shining Path (SL)',\n",
       " 1992: \"Kurdistan Workers' Party (PKK)\",\n",
       " 1994: 'Irish Republican Army (IRA)',\n",
       " 1995: \"Kurdistan Workers' Party (PKK)\",\n",
       " 1996: 'Liberation Tigers of Tamil Eelam (LTTE)',\n",
       " 1997: 'Revolutionary Armed Forces of Colombia (FARC)',\n",
       " 1998: 'Revolutionary Armed Forces of Colombia (FARC)',\n",
       " 1999: 'Revolutionary Armed Forces of Colombia (FARC)',\n",
       " 2000: 'Chechen Rebels',\n",
       " 2001: 'Chechen Rebels',\n",
       " 2002: 'Revolutionary Armed Forces of Colombia (FARC)',\n",
       " 2003: 'Moro Islamic Liberation Front (MILF)',\n",
       " 2004: 'Taliban',\n",
       " 2005: 'Taliban',\n",
       " 2006: 'Taliban',\n",
       " 2007: 'Taliban',\n",
       " 2008: 'Taliban',\n",
       " 2009: 'Communist Party of India - Maoist (CPI-Maoist)',\n",
       " 2010: 'Communist Party of India - Maoist (CPI-Maoist)',\n",
       " 2011: 'Communist Party of India - Maoist (CPI-Maoist)',\n",
       " 2012: 'Taliban',\n",
       " 2013: 'Taliban',\n",
       " 2014: 'Islamic State of Iraq and the Levant (ISIL)',\n",
       " 2015: 'Taliban',\n",
       " 2016: 'Islamic State of Iraq and the Levant (ISIL)',\n",
       " 2017: 'Islamic State of Iraq and the Levant (ISIL)',\n",
       " 2018: 'Taliban'}"
      ]
     },
     "execution_count": 114,
     "metadata": {},
     "output_type": "execute_result"
    }
   ],
   "source": [
    "dict_gname = {}\n",
    "for year, group in terror_df.groupby('iyear'):\n",
    "    dict_gname[year] = {}\n",
    "    for txt in ['gname']:\n",
    "        gnames = group[txt].value_counts().to_dict()\n",
    "        del gnames['Unknown']\n",
    "        dict_gname[year] = max(gnames, key=gnames.get)\n",
    "\n",
    "dict_gname"
   ]
  },
  {
   "cell_type": "markdown",
   "metadata": {
    "colab_type": "text",
    "id": "JclYIXdpICW3"
   },
   "source": [
    "### Africa"
   ]
  },
  {
   "cell_type": "code",
   "execution_count": 170,
   "metadata": {
    "colab": {
     "base_uri": "https://localhost:8080/",
     "height": 817
    },
    "colab_type": "code",
    "id": "KBuiixOUICW8",
    "outputId": "bc00bd0b-5775-4a91-e793-a3801d57f23a"
   },
   "outputs": [
    {
     "data": {
      "text/plain": [
       "{1970: 'Popular Front for the Liberation of Palestine (PFLP)',\n",
       " 1971: \"Turkish People's Liberation Army\",\n",
       " 1972: 'Black September',\n",
       " 1973: 'Black September',\n",
       " 1974: 'Arab Communist Organization',\n",
       " 1975: 'Mujahedin-e Khalq (MEK)',\n",
       " 1976: \"Turkish People's Liberation Army\",\n",
       " 1977: 'African National Congress (South Africa)',\n",
       " 1978: 'Palestinians',\n",
       " 1979: 'Palestinians',\n",
       " 1980: 'Palestinians',\n",
       " 1981: 'African National Congress (South Africa)',\n",
       " 1982: 'Palestinians',\n",
       " 1983: 'African National Congress (South Africa)',\n",
       " 1984: 'African National Congress (South Africa)',\n",
       " 1985: 'African National Congress (South Africa)',\n",
       " 1986: 'African National Congress (South Africa)',\n",
       " 1987: 'African National Congress (South Africa)',\n",
       " 1988: 'African National Congress (South Africa)',\n",
       " 1989: 'Palestinians',\n",
       " 1990: 'National Union for the Total Independence of Angola (UNITA)',\n",
       " 1991: 'Dev Sol',\n",
       " 1992: \"Kurdistan Workers' Party (PKK)\",\n",
       " 1994: \"Al-Gama'at al-Islamiyya (IG)\",\n",
       " 1995: \"Al-Gama'at al-Islamiyya (IG)\",\n",
       " 1996: \"Al-Gama'at al-Islamiyya (IG)\",\n",
       " 1997: 'Islamist extremists',\n",
       " 1998: 'Algerian Islamic Extremists',\n",
       " 1999: 'National Union for the Total Independence of Angola (UNITA)',\n",
       " 2000: 'National Union for the Total Independence of Angola (UNITA)',\n",
       " 2001: 'National Union for the Total Independence of Angola (UNITA)',\n",
       " 2002: 'Al-Aqsa Martyrs Brigade',\n",
       " 2003: 'Hamas (Islamic Resistance Movement)',\n",
       " 2004: 'Tawhid and Jihad',\n",
       " 2005: 'Al-Qaida in Iraq',\n",
       " 2006: 'Salafist Group for Preaching and Fighting (GSPC)',\n",
       " 2007: 'Al-Qaida in the Islamic Maghreb (AQIM)',\n",
       " 2008: 'Al-Qaida in Iraq',\n",
       " 2009: 'Islamic State of Iraq (ISI)',\n",
       " 2010: 'Al-Shabaab',\n",
       " 2011: 'Al-Shabaab',\n",
       " 2012: 'Boko Haram',\n",
       " 2013: 'Islamic State of Iraq and the Levant (ISIL)',\n",
       " 2014: 'Islamic State of Iraq and the Levant (ISIL)',\n",
       " 2015: 'Islamic State of Iraq and the Levant (ISIL)',\n",
       " 2016: 'Islamic State of Iraq and the Levant (ISIL)',\n",
       " 2017: 'Islamic State of Iraq and the Levant (ISIL)',\n",
       " 2018: 'Islamic State of Iraq and the Levant (ISIL)'}"
      ]
     },
     "execution_count": 170,
     "metadata": {
      "tags": []
     },
     "output_type": "execute_result"
    }
   ],
   "source": [
    "dict_attack = {}\n",
    "for year, group in afr_terror_df.groupby('iyear'):\n",
    "    dict_gname[year] = {}\n",
    "    for txt in ['gname']:\n",
    "      gnames = group[txt].value_counts().to_dict()\n",
    "      del gnames['Unknown']\n",
    "      dict_gname[year] = max(gnames, key=gnames.get)\n",
    "\n",
    "dict_gname"
   ]
  },
  {
   "cell_type": "markdown",
   "metadata": {
    "colab_type": "text",
    "id": "_FmTdGM2ZltA"
   },
   "source": [
    "## Ratio kills/attacks"
   ]
  },
  {
   "cell_type": "code",
   "execution_count": 49,
   "metadata": {},
   "outputs": [],
   "source": [
    "dict_nb_attacks = {}\n",
    "for year, group in terror_df.groupby('iyear'):\n",
    "    nb_attacks = len(group)\n",
    "    dict_nb_attacks[year] = nb_attacks"
   ]
  },
  {
   "cell_type": "code",
   "execution_count": 51,
   "metadata": {},
   "outputs": [
    {
     "data": {
      "image/png": "[encoded data removed]",
      "text/plain": [
       "<Figure size 1440x576 with 1 Axes>"
      ]
     },
     "metadata": {
      "needs_background": "light"
     },
     "output_type": "display_data"
    }
   ],
   "source": [
    "nb_attacks_df = pd.Series(dict_nb_attacks)\n",
    "nb_attacks_df = (nb_attacks_df - nb_attacks_df.min())/(nb_attacks_df.max() - nb_attacks_df.min())\n",
    "nb_attacks_df.plot.bar(figsize=(20,8))\n",
    "plt.show()"
   ]
  },
  {
   "cell_type": "code",
   "execution_count": 53,
   "metadata": {
    "colab": {},
    "colab_type": "code",
    "id": "D_4VLWfEZltB"
   },
   "outputs": [],
   "source": [
    "dict_ratio = {}\n",
    "for year, group in terror_df.groupby('iyear'):\n",
    "    nb_kills = group.nkill.sum()\n",
    "    nb_attacks = len(group)\n",
    "    ratio = nb_kills/nb_attacks\n",
    "    dict_ratio[year] = ratio"
   ]
  },
  {
   "cell_type": "code",
   "execution_count": 54,
   "metadata": {
    "colab": {},
    "colab_type": "code",
    "id": "4QcjCbt0ZltF",
    "outputId": "0bcb0cb5-5e9c-4437-b8b7-2a9b7d8c6750"
   },
   "outputs": [
    {
     "data": {
      "image/png": "[encoded data removed]",
      "text/plain": [
       "<Figure size 1440x576 with 1 Axes>"
      ]
     },
     "metadata": {
      "needs_background": "light"
     },
     "output_type": "display_data"
    }
   ],
   "source": [
    "ratio_df = pd.Series(dict_ratio)\n",
    "ratio_df = (ratio_df - ratio_df.min())/(ratio_df.max() - ratio_df.min())\n",
    "ratio_df.plot.bar(figsize=(20,8))\n",
    "plt.show()"
   ]
  },
  {
   "cell_type": "code",
   "execution_count": 63,
   "metadata": {},
   "outputs": [],
   "source": [
    "list_years = [year for year in ratio_df.keys()]\n",
    "list_ratio = [ratio for ratio in ratio_df.values]\n",
    "list_attacks = [attacks for attacks in nb_attacks_df.values]\n",
    "dict_both = {'year' : list_years, 'ratio' : list_ratio, 'attacks' : list_attacks}\n",
    "both_df = pd.DataFrame(dict_both).set_index('year')"
   ]
  },
  {
   "cell_type": "code",
   "execution_count": 65,
   "metadata": {},
   "outputs": [
    {
     "data": {
      "image/png": "[encoded data removed]",
      "text/plain": [
       "<Figure size 1440x576 with 1 Axes>"
      ]
     },
     "metadata": {
      "needs_background": "light"
     },
     "output_type": "display_data"
    }
   ],
   "source": [
    "both_df.plot.bar(figsize=(20,8))\n",
    "plt.show()"
   ]
  },
  {
   "cell_type": "markdown",
   "metadata": {
    "colab_type": "text",
    "id": "6Gbx5mEHZltI"
   },
   "source": [
    "## Target victim"
   ]
  },
  {
   "cell_type": "code",
   "execution_count": null,
   "metadata": {
    "colab": {},
    "colab_type": "code",
    "id": "CTdHoxKLZltJ"
   },
   "outputs": [],
   "source": [
    "target_victim = terror_df.targtype1_txt.unique().tolist()\n",
    "del target_victim[target_victim.index('Unknown')]\n",
    "del target_victim[target_victim.index('Other')]\n",
    "\n",
    "dict_target = {}\n",
    "for year, group in terror_df.groupby('iyear'):\n",
    "    dict_target[year] = {}\n",
    "    targets = group.targtype1_txt.value_counts().to_dict()\n",
    "    for target in target_victim:\n",
    "        if target in targets.keys():\n",
    "            dict_target[year][target] = targets[target]\n",
    "        else:\n",
    "            dict_target[year][target] = 0"
   ]
  },
  {
   "cell_type": "code",
   "execution_count": null,
   "metadata": {
    "colab": {},
    "colab_type": "code",
    "id": "BJR29QWfZltL",
    "outputId": "5bc475d4-394e-4c1d-d30e-ecc448c7b9e8"
   },
   "outputs": [
    {
     "data": {
      "text/html": [
       "<div>\n",
       "<style scoped>\n",
       "    .dataframe tbody tr th:only-of-type {\n",
       "        vertical-align: middle;\n",
       "    }\n",
       "\n",
       "    .dataframe tbody tr th {\n",
       "        vertical-align: top;\n",
       "    }\n",
       "\n",
       "    .dataframe thead th {\n",
       "        text-align: right;\n",
       "    }\n",
       "</style>\n",
       "<table border=\"1\" class=\"dataframe\">\n",
       "  <thead>\n",
       "    <tr style=\"text-align: right;\">\n",
       "      <th></th>\n",
       "      <th>Private Citizens &amp; Property</th>\n",
       "      <th>Government (Diplomatic)</th>\n",
       "      <th>Journalists &amp; Media</th>\n",
       "      <th>Police</th>\n",
       "      <th>Utilities</th>\n",
       "      <th>Military</th>\n",
       "      <th>Government (General)</th>\n",
       "      <th>Airports &amp; Aircraft</th>\n",
       "      <th>Business</th>\n",
       "      <th>Educational Institution</th>\n",
       "      <th>Violent Political Party</th>\n",
       "      <th>Religious Figures/Institutions</th>\n",
       "      <th>Transportation</th>\n",
       "      <th>Tourists</th>\n",
       "      <th>NGO</th>\n",
       "      <th>Telecommunication</th>\n",
       "      <th>Food or Water Supply</th>\n",
       "      <th>Terrorists/Non-State Militia</th>\n",
       "      <th>Maritime</th>\n",
       "      <th>Abortion Related</th>\n",
       "    </tr>\n",
       "  </thead>\n",
       "  <tbody>\n",
       "    <tr>\n",
       "      <th>1970</th>\n",
       "      <td>56</td>\n",
       "      <td>55</td>\n",
       "      <td>9</td>\n",
       "      <td>81</td>\n",
       "      <td>16</td>\n",
       "      <td>62</td>\n",
       "      <td>80</td>\n",
       "      <td>25</td>\n",
       "      <td>136</td>\n",
       "      <td>62</td>\n",
       "      <td>1</td>\n",
       "      <td>13</td>\n",
       "      <td>2</td>\n",
       "      <td>2</td>\n",
       "      <td>8</td>\n",
       "      <td>7</td>\n",
       "      <td>2</td>\n",
       "      <td>4</td>\n",
       "      <td>0</td>\n",
       "      <td>0</td>\n",
       "    </tr>\n",
       "    <tr>\n",
       "      <th>1971</th>\n",
       "      <td>23</td>\n",
       "      <td>35</td>\n",
       "      <td>12</td>\n",
       "      <td>38</td>\n",
       "      <td>12</td>\n",
       "      <td>40</td>\n",
       "      <td>46</td>\n",
       "      <td>10</td>\n",
       "      <td>130</td>\n",
       "      <td>40</td>\n",
       "      <td>2</td>\n",
       "      <td>4</td>\n",
       "      <td>4</td>\n",
       "      <td>3</td>\n",
       "      <td>2</td>\n",
       "      <td>3</td>\n",
       "      <td>0</td>\n",
       "      <td>0</td>\n",
       "      <td>2</td>\n",
       "      <td>0</td>\n",
       "    </tr>\n",
       "    <tr>\n",
       "      <th>1972</th>\n",
       "      <td>152</td>\n",
       "      <td>75</td>\n",
       "      <td>5</td>\n",
       "      <td>26</td>\n",
       "      <td>7</td>\n",
       "      <td>10</td>\n",
       "      <td>27</td>\n",
       "      <td>22</td>\n",
       "      <td>75</td>\n",
       "      <td>6</td>\n",
       "      <td>1</td>\n",
       "      <td>0</td>\n",
       "      <td>3</td>\n",
       "      <td>4</td>\n",
       "      <td>5</td>\n",
       "      <td>0</td>\n",
       "      <td>0</td>\n",
       "      <td>5</td>\n",
       "      <td>1</td>\n",
       "      <td>0</td>\n",
       "    </tr>\n",
       "    <tr>\n",
       "      <th>1973</th>\n",
       "      <td>125</td>\n",
       "      <td>57</td>\n",
       "      <td>3</td>\n",
       "      <td>29</td>\n",
       "      <td>5</td>\n",
       "      <td>9</td>\n",
       "      <td>22</td>\n",
       "      <td>20</td>\n",
       "      <td>82</td>\n",
       "      <td>5</td>\n",
       "      <td>0</td>\n",
       "      <td>2</td>\n",
       "      <td>2</td>\n",
       "      <td>0</td>\n",
       "      <td>2</td>\n",
       "      <td>0</td>\n",
       "      <td>0</td>\n",
       "      <td>9</td>\n",
       "      <td>3</td>\n",
       "      <td>0</td>\n",
       "    </tr>\n",
       "    <tr>\n",
       "      <th>1974</th>\n",
       "      <td>129</td>\n",
       "      <td>58</td>\n",
       "      <td>9</td>\n",
       "      <td>41</td>\n",
       "      <td>5</td>\n",
       "      <td>9</td>\n",
       "      <td>36</td>\n",
       "      <td>20</td>\n",
       "      <td>177</td>\n",
       "      <td>3</td>\n",
       "      <td>0</td>\n",
       "      <td>7</td>\n",
       "      <td>7</td>\n",
       "      <td>0</td>\n",
       "      <td>3</td>\n",
       "      <td>4</td>\n",
       "      <td>0</td>\n",
       "      <td>9</td>\n",
       "      <td>2</td>\n",
       "      <td>0</td>\n",
       "    </tr>\n",
       "  </tbody>\n",
       "</table>\n",
       "</div>"
      ],
      "text/plain": [
       "      Private Citizens & Property  Government (Diplomatic)  \\\n",
       "1970                           56                       55   \n",
       "1971                           23                       35   \n",
       "1972                          152                       75   \n",
       "1973                          125                       57   \n",
       "1974                          129                       58   \n",
       "\n",
       "      Journalists & Media  Police  Utilities  Military  Government (General)  \\\n",
       "1970                    9      81         16        62                    80   \n",
       "1971                   12      38         12        40                    46   \n",
       "1972                    5      26          7        10                    27   \n",
       "1973                    3      29          5         9                    22   \n",
       "1974                    9      41          5         9                    36   \n",
       "\n",
       "      Airports & Aircraft  Business  Educational Institution  \\\n",
       "1970                   25       136                       62   \n",
       "1971                   10       130                       40   \n",
       "1972                   22        75                        6   \n",
       "1973                   20        82                        5   \n",
       "1974                   20       177                        3   \n",
       "\n",
       "      Violent Political Party  Religious Figures/Institutions  Transportation  \\\n",
       "1970                        1                              13               2   \n",
       "1971                        2                               4               4   \n",
       "1972                        1                               0               3   \n",
       "1973                        0                               2               2   \n",
       "1974                        0                               7               7   \n",
       "\n",
       "      Tourists  NGO  Telecommunication  Food or Water Supply  \\\n",
       "1970         2    8                  7                     2   \n",
       "1971         3    2                  3                     0   \n",
       "1972         4    5                  0                     0   \n",
       "1973         0    2                  0                     0   \n",
       "1974         0    3                  4                     0   \n",
       "\n",
       "      Terrorists/Non-State Militia  Maritime  Abortion Related  \n",
       "1970                             4         0                 0  \n",
       "1971                             0         2                 0  \n",
       "1972                             5         1                 0  \n",
       "1973                             9         3                 0  \n",
       "1974                             9         2                 0  "
      ]
     },
     "execution_count": 86,
     "metadata": {
      "tags": []
     },
     "output_type": "execute_result"
    }
   ],
   "source": [
    "target_df = pd.DataFrame(dict_target).transpose()\n",
    "target_df.head()"
   ]
  },
  {
   "cell_type": "code",
   "execution_count": null,
   "metadata": {
    "colab": {},
    "colab_type": "code",
    "id": "Mk7cCSqMZltO"
   },
   "outputs": [],
   "source": [
    "most_target = target_df.sum().sort_values(ascending=False) > 1000 # We keep only the targets that are the more present\n",
    "imp_targets = [target for target, imp in most_target.items() if imp]\n",
    "slice1 = imp_targets[:4]\n",
    "slice2 = imp_targets[4:8]\n",
    "slice3 = imp_targets[8:12]\n",
    "slice4 = imp_targets[12:16]\n"
   ]
  },
  {
   "cell_type": "code",
   "execution_count": null,
   "metadata": {
    "colab": {},
    "colab_type": "code",
    "id": "7FvSPUqEZltR",
    "outputId": "23216361-a6fb-447a-ada7-5d9ce433b838"
   },
   "outputs": [
    {
     "data": {
      "image/png": "[encoded data removed]",
      "text/plain": [
       "<Figure size 1440x576 with 1 Axes>"
      ]
     },
     "metadata": {
      "needs_background": "light",
      "tags": []
     },
     "output_type": "display_data"
    }
   ],
   "source": [
    "target_df[slice1].plot.bar(figsize=(20,8))\n",
    "plt.show()"
   ]
  },
  {
   "cell_type": "code",
   "execution_count": null,
   "metadata": {
    "colab": {},
    "colab_type": "code",
    "id": "aXwRoum9ZltT",
    "outputId": "46aac9e1-942f-408a-f6f7-28dfba859c5b"
   },
   "outputs": [
    {
     "data": {
      "image/png": "[encoded data removed]",
      "text/plain": [
       "<Figure size 1440x576 with 1 Axes>"
      ]
     },
     "metadata": {
      "needs_background": "light",
      "tags": []
     },
     "output_type": "display_data"
    }
   ],
   "source": [
    "target_df[slice2].plot.bar(figsize=(20,8))\n",
    "plt.show()"
   ]
  },
  {
   "cell_type": "code",
   "execution_count": null,
   "metadata": {
    "colab": {},
    "colab_type": "code",
    "id": "fKCKX-5UZltW",
    "outputId": "2b0a37cf-d9d4-4b6f-f2ca-371a5bdd8e11"
   },
   "outputs": [
    {
     "data": {
      "image/png": "[encoded data removed]",
      "text/plain": [
       "<Figure size 1440x576 with 1 Axes>"
      ]
     },
     "metadata": {
      "needs_background": "light",
      "tags": []
     },
     "output_type": "display_data"
    }
   ],
   "source": [
    "target_df[slice3].plot.bar(figsize=(20,8))\n",
    "plt.show()"
   ]
  },
  {
   "cell_type": "code",
   "execution_count": null,
   "metadata": {
    "colab": {},
    "colab_type": "code",
    "id": "7mWvFkkQZltb",
    "outputId": "beece10b-7a50-469c-db3c-9d5fe97c26cb"
   },
   "outputs": [
    {
     "data": {
      "image/png": "[encoded data removed]",
      "text/plain": [
       "<Figure size 1440x576 with 1 Axes>"
      ]
     },
     "metadata": {
      "needs_background": "light",
      "tags": []
     },
     "output_type": "display_data"
    }
   ],
   "source": [
    "target_df[slice4].plot.bar(figsize=(20,8))\n",
    "plt.show()"
   ]
  },
  {
   "cell_type": "markdown",
   "metadata": {
    "colab_type": "text",
    "id": "hbpVr3nZZlti"
   },
   "source": [
    "## INTERRESTING TO LOOK AT MOTIVE\n",
    "This field may also include general information about the political, social, or economic climate at the time of the attack if considered relevant to the motivation underlying the incident"
   ]
  },
  {
   "cell_type": "code",
   "execution_count": 12,
   "metadata": {},
   "outputs": [],
   "source": [
    "from PIL import Image\n",
    "import pandas as pd\n",
    "import numpy as np\n",
    "import seaborn as sns\n",
    "import matplotlib.pyplot as plt\n",
    "import re"
   ]
  },
  {
   "cell_type": "code",
   "execution_count": 13,
   "metadata": {},
   "outputs": [],
   "source": [
    "# terrorism_df = pd.read_csv('data/terrorism_complete.csv',low_memory=False)\n",
    "# terror_df = terrorism_df[terrorism_df.crit1.isin([1])&terrorism_df.crit2.isin([1])&terrorism_df.crit3.isin([1])]"
   ]
  },
  {
   "cell_type": "code",
   "execution_count": 14,
   "metadata": {},
   "outputs": [],
   "source": [
    "# wordcloud_terror_df = terror_df[['motive','iyear','region_txt']]"
   ]
  },
  {
   "cell_type": "code",
   "execution_count": 15,
   "metadata": {},
   "outputs": [],
   "source": [
    "wordcloud_terror_df = pd.read_csv('data/wordcloud_terror_df.csv')"
   ]
  },
  {
   "cell_type": "code",
   "execution_count": 16,
   "metadata": {},
   "outputs": [
    {
     "name": "stderr",
     "output_type": "stream",
     "text": [
      "[nltk_data] Downloading package stopwords to /home/nltk_data...\n",
      "[nltk_data]   Package stopwords is already up-to-date!\n"
     ]
    }
   ],
   "source": [
    "from collections import defaultdict\n",
    "import nltk\n",
    "from collections import OrderedDict\n",
    "import operator\n",
    "from nltk.corpus import stopwords\n",
    "nltk.download('stopwords')\n",
    "stop_words = set(stopwords.words('english')) \n",
    "stop_words.add('unknown')\n",
    "stop_words.add('motive')\n",
    "stop_words.add('specific')\n",
    "stop_words.add('however')\n",
    "\n",
    "rof = ['North America','South Asia', 'Middle East & North Africa', 'South America','Western Europe'] # regions of interrest\n",
    "bag_of_words = {}\n",
    "for region in rof:\n",
    "    bag_of_words[region] = {}\n",
    "    df = wordcloud_terror_df[wordcloud_terror_df.region_txt == region]\n",
    "    for year, group in df.groupby('iyear'):\n",
    "        word_dict  = defaultdict(int)\n",
    "        for txt in group.motive.dropna():\n",
    "            res = re.findall(r'\\w+',txt) \n",
    "            for word in res:\n",
    "                if word.lower() not in stop_words:\n",
    "                    word_dict[word.lower()] += 1\n",
    "                    \n",
    "        bag_of_words[region][year] = OrderedDict(sorted(word_dict.items(), key=operator.itemgetter(1),reverse=True)[:100])"
   ]
  },
  {
   "cell_type": "code",
   "execution_count": 17,
   "metadata": {},
   "outputs": [
    {
     "data": {
      "text/plain": [
       "dict_keys(['North America', 'South Asia', 'Middle East & North Africa', 'South America', 'Western Europe'])"
      ]
     },
     "execution_count": 17,
     "metadata": {},
     "output_type": "execute_result"
    }
   ],
   "source": [
    "bag_of_words.keys()"
   ]
  },
  {
   "cell_type": "code",
   "execution_count": 18,
   "metadata": {},
   "outputs": [],
   "source": [
    "from wordcloud import WordCloud, STOPWORDS, ImageColorGenerator\n",
    "\n",
    "def word_cloud(dict_,region):\n",
    "    for year in dict_[region].keys():\n",
    "        if len(dict_[region][year]) > 0:\n",
    "            print(year)\n",
    "            wordcloud = WordCloud(max_font_size=100, max_words=100, background_color=\"white\").generate_from_frequencies(dict_[region][year])\n",
    "            plt.figure()\n",
    "            plt.imshow(wordcloud, interpolation=\"bilinear\")\n",
    "            plt.axis(\"off\")\n",
    "            plt.show()"
   ]
  },
  {
   "cell_type": "code",
   "execution_count": 19,
   "metadata": {},
   "outputs": [],
   "source": [
    "def group_decade(dict_,region,decade):\n",
    "    dict_region = dict_[region]\n",
    "    dict_decade = defaultdict(int)\n",
    "    for year in dict_region.keys():\n",
    "        if year%100 >= decade and year%100 < decade+10:\n",
    "            for word, freq in  dict_region[year].items():\n",
    "                dict_decade[word] += freq\n",
    "    return dict_decade"
   ]
  },
  {
   "cell_type": "code",
   "execution_count": 20,
   "metadata": {},
   "outputs": [],
   "source": [
    "def simple_wordcloud(dict_complete,region,decade,imagename):\n",
    "    ##Cell to test some visualization trials\n",
    "    #Load the text to be displayed in the Word Map\n",
    "#     text = str(array)\n",
    "    # Load the image that we'll be used as a mask\n",
    "    dict_ = group_decade(dict_complete,region,decade)\n",
    "    if len(dict_) > 0:\n",
    "        mask = np.array(Image.open(imagename))\n",
    "        wc = WordCloud(background_color=\"white\", max_words=2000, mask=mask,contour_width=0, contour_color='steelblue').generate_from_frequencies(dict_)\n",
    "        # Generate word cloud\n",
    "    #     wc.generate(text)\n",
    "        # Show the word cloud\n",
    "#         plt.figure(figsize = (30,10))\n",
    "#         plt.imshow(wc, interpolation='bilinear')\n",
    "#         plt.axis(\"off\")\n",
    "#         saved_name = imagename[:-4]\n",
    "# #         plt.imsave(saved_name+'_simlpy_worded.png',wc)\n",
    "#         plt.show()\n",
    "        return wc"
   ]
  },
  {
   "cell_type": "code",
   "execution_count": 40,
   "metadata": {},
   "outputs": [],
   "source": [
    "%%capture\n",
    "%matplotlib inline\n",
    "from ipywidgets import interact, widgets\n",
    "from IPython.display import display\n",
    "import matplotlib.pyplot as plt\n",
    "\n",
    "def f(region,decade):\n",
    "#     with warnings.catch_warnings():\n",
    "#         warnings.simplefilter(\"ignore\")\n",
    "    decade = int(decade)\n",
    "    dict_image = {'North America' : 'image/north_america.png', \n",
    "                  'South Asia' : 'image/south_asia.jpg', \n",
    "                  'Middle East & North Africa' : 'image/africa_north.png', \n",
    "                  'South America' : 'image/south_america.jpg' , \n",
    "                  'Western Europe' : 'image/western_europe.jpeg'}\n",
    "    wc = simple_wordcloud(bag_of_words,region,decade,dict_image[region])\n",
    "#     img_median = rank.median(img_gray, selem=selem) \n",
    "\n",
    "    ax_neu.imshow(wc, interpolation='bilinear')\n",
    "    fig.canvas.draw()\n",
    "    display(fig)\n",
    "\n",
    "fig = plt.figure(figsize=(18, 12))\n",
    "# ax_orig = fig.add_subplot(121) \n",
    "ax_neu = fig.add_subplot(111) \n",
    "\n",
    "# ax_orig.imshow(img_gray, cmap=\"gray\")\n",
    "ax_neu.imshow(img_gray, cmap=\"gray\")"
   ]
  },
  {
   "cell_type": "code",
   "execution_count": 43,
   "metadata": {},
   "outputs": [
    {
     "data": {
      "application/vnd.jupyter.widget-view+json": {
       "model_id": "714924ca518046a28941cd3daf721e46",
       "version_major": 2,
       "version_minor": 0
      },
      "text/plain": [
       "interactive(children=(Dropdown(description='Region:', options=('North America', 'South Asia', 'Middle East & N…"
      ]
     },
     "metadata": {},
     "output_type": "display_data"
    }
   ],
   "source": [
    "region_w = widgets.Dropdown(\n",
    "    options=['North America', 'South Asia', 'Middle East & North Africa', 'South America' , 'Western Europe'],\n",
    "    value='North America',\n",
    "    description='Region:',\n",
    ")\n",
    "decade_w = widgets.SelectionSlider(\n",
    "    options=['70', '75', '80','85','90','95','00','05','10'],\n",
    "    value='70',\n",
    "    description='Decade:',\n",
    "    disabled=False,\n",
    "    continuous_update=False,\n",
    "    orientation='horizontal',\n",
    "    readout=True\n",
    ")\n",
    "\n",
    "interact(f, region=region_w,decade=decade_w);"
   ]
  },
  {
   "cell_type": "code",
   "execution_count": 44,
   "metadata": {},
   "outputs": [],
   "source": [
    "# simple_wordcloud(bag_of_words,'Middle East & North Africa',85,'image/africa_north.png')"
   ]
  },
  {
   "cell_type": "markdown",
   "metadata": {
    "colab_type": "text",
    "id": "uEOh-b4SZltk"
   },
   "source": [
    "## Damage in USD"
   ]
  },
  {
   "cell_type": "code",
   "execution_count": null,
   "metadata": {
    "colab": {},
    "colab_type": "code",
    "id": "UvK4BD2FZltk"
   },
   "outputs": [],
   "source": [
    "dict_ratio_damage = {}\n",
    "terror_df = pd.read_excel('../terror_df.xlsx')\n",
    "for year, group in terror_df.groupby('iyear'):\n",
    "    dammage_value = group.propvalue.sum()\n",
    "    nb_attacks = len(group)\n",
    "    ratio = dammage_value/nb_attacks\n",
    "    dict_ratio_damage[year] = ratio"
   ]
  },
  {
   "cell_type": "code",
   "execution_count": null,
   "metadata": {
    "colab": {},
    "colab_type": "code",
    "id": "TQc8dP4eZltn",
    "outputId": "f5268d6a-c9b8-4b38-8013-6fe0c525cd95"
   },
   "outputs": [],
   "source": [
    "ratio_dam_df = pd.Series(dict_ratio_damage)\n",
    "ratio_dam_df = (ratio_dam_df - ratio_dam_df.min())/(ratio_dam_df.max() - ratio_dam_df.min())\n",
    "ratio_dam_df.plot.bar(figsize=(20,8))\n",
    "plt.show()"
   ]
  },
  {
   "cell_type": "code",
   "execution_count": null,
   "metadata": {},
   "outputs": [],
   "source": []
  }
 ],
 "metadata": {
  "colab": {
   "collapsed_sections": [],
   "include_colab_link": true,
   "name": "terrorism_eras.ipynb",
   "provenance": [],
   "toc_visible": true
  },
  "kernelspec": {
   "display_name": "ada",
   "language": "python",
   "name": "ada"
  },
  "language_info": {
   "codemirror_mode": {
    "name": "ipython",
    "version": 3
   },
   "file_extension": ".py",
   "mimetype": "text/x-python",
   "name": "python",
   "nbconvert_exporter": "python",
   "pygments_lexer": "ipython3",
   "version": "3.6.8"
  }
 },
 "nbformat": 4,
 "nbformat_minor": 4
}
